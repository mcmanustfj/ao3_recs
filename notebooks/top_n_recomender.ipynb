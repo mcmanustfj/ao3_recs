{
 "cells": [
  {
   "cell_type": "code",
   "execution_count": null,
   "metadata": {},
   "outputs": [],
   "source": [
    "import numpy as np\n",
    "from networkx.classes.function import common_neighbors\n",
    "import csv\n",
    "import networkx as nx"
   ]
  },
  {
   "cell_type": "code",
   "execution_count": 24,
   "metadata": {},
   "outputs": [],
   "source": [
    "\n",
    "g = nx.Graph()\n",
    "users=[]\n",
    "fics=[]\n",
    "for row in csv.reader(open('data1.csv', 'r')):\n",
    "    g.add_edge(row[0],row[1])\n",
    "    if row[0] not in users:\n",
    "        users.append(row[0])\n",
    "    if row[1] not in fics:\n",
    "        fics.append(row[1])\n",
    "fics=np.array(fics)\n"
   ]
  },
  {
   "cell_type": "code",
   "execution_count": 57,
   "metadata": {},
   "outputs": [],
   "source": [
    "cov=np.zeros(len(fics))\n",
    "target=fics[0]\n",
    "for i in range(0,len(fics)):\n",
    "    if fics[i] is not target:\n",
    "        cov[i]=sum(2 for i in common_neighbors(g, fics[i], fics[j]))/(len(g[fics[i]])+len(g[fics[j]]))\n"
   ]
  },
  {
   "cell_type": "code",
   "execution_count": 82,
   "metadata": {},
   "outputs": [],
   "source": [
    "top_n_fics=fics[np.flip(np.argsort(cov))[0:10]]\n",
    "top_n_scores=cov[np.flip(np.argsort(cov))[0:10]]\n",
    "top_n_urls=np.core.defchararray.add('https://archiveofourown.org/works/',top_n)\n"
   ]
  },
  {
   "cell_type": "code",
   "execution_count": 95,
   "metadata": {},
   "outputs": [],
   "source": [
    "import requests\n",
    "from bs4 import BeautifulSoup\n",
    "\n",
    "def get_title(url):\n",
    "    reqs=requests.get(url)\n",
    "    soup=BeautifulSoup(reqs.text, 'lxml')\n",
    "    return soup.title.string.strip(\"\\n \\t\").split(\"-\")[0]\n",
    "\n"
   ]
  },
  {
   "cell_type": "code",
   "execution_count": 97,
   "metadata": {},
   "outputs": [],
   "source": [
    "top_n_titles=[]\n",
    "for url in top_n_urls:\n",
    "    top_n_titles.append(get_title(url))"
   ]
  },
  {
   "cell_type": "code",
   "execution_count": 102,
   "metadata": {},
   "outputs": [
    {
     "name": "stdout",
     "output_type": "stream",
     "text": [
      "Top Recomendations for You complete me \n",
      "                                                tite  \\\n",
      "0                     What I Want Most in the World    \n",
      "1                         When Words are Inadequate    \n",
      "2                           like flames like warmth    \n",
      "3                                          82 Hours    \n",
      "4                                sweettalk my heart    \n",
      "5  404\\n          Error\\n        |\\n        Archi...   \n",
      "6                                       coming home    \n",
      "7                 the times we tried (read, 3.04am)    \n",
      "8                          On the Subject of Change    \n",
      "\n",
      "                                          url     score  \n",
      "0  https://archiveofourown.org/works/27359074  1.000000  \n",
      "1  https://archiveofourown.org/works/27762298  0.800000  \n",
      "2  https://archiveofourown.org/works/27315340  0.800000  \n",
      "3  https://archiveofourown.org/works/27747100  0.800000  \n",
      "4  https://archiveofourown.org/works/25138387  0.800000  \n",
      "5  https://archiveofourown.org/works/28086993  0.666667  \n",
      "6  https://archiveofourown.org/works/27353065  0.666667  \n",
      "7  https://archiveofourown.org/works/25236691  0.571429  \n",
      "8  https://archiveofourown.org/works/27901564  0.571429  \n"
     ]
    }
   ],
   "source": [
    "import pandas as pd \n",
    "  \n",
    "df = pd.DataFrame(list(zip(top_n_titles, top_n_urls.tolist(),top_n_scores.tolist() )), columns =['tite', 'url', 'score']) \n",
    "print(\"Top Recomendations for \"+get_title('https://archiveofourown.org/works/'+target))\n",
    "print(df)\n"
   ]
  },
  {
   "cell_type": "code",
   "execution_count": null,
   "metadata": {},
   "outputs": [],
   "source": []
  }
 ],
 "metadata": {
  "kernelspec": {
   "display_name": "Python 3",
   "language": "python",
   "name": "python3"
  },
  "language_info": {
   "codemirror_mode": {
    "name": "ipython",
    "version": 3
   },
   "file_extension": ".py",
   "mimetype": "text/x-python",
   "name": "python",
   "nbconvert_exporter": "python",
   "pygments_lexer": "ipython3",
   "version": "3.7.0"
  }
 },
 "nbformat": 4,
 "nbformat_minor": 2
}
