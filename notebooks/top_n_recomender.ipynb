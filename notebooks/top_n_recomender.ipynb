{
 "cells": [
  {
   "cell_type": "code",
   "execution_count": 13,
   "metadata": {
    "ExecuteTime": {
     "end_time": "2021-04-10T23:17:33.688845Z",
     "start_time": "2021-04-10T23:17:33.676834Z"
    }
   },
   "outputs": [],
   "source": [
    "import numpy as np\n",
    "from networkx.classes.function import common_neighbors\n",
    "import csv\n",
    "import networkx as nx\n",
    "import sqlite3\n",
    "import pandas as pd\n",
    "import pickle\n",
    "import json"
   ]
  },
  {
   "cell_type": "code",
   "execution_count": 2,
   "metadata": {
    "ExecuteTime": {
     "end_time": "2021-04-10T23:10:02.737157Z",
     "start_time": "2021-04-10T23:10:02.722152Z"
    }
   },
   "outputs": [],
   "source": [
    "clean_rows = []"
   ]
  },
  {
   "cell_type": "code",
   "execution_count": 3,
   "metadata": {
    "ExecuteTime": {
     "end_time": "2021-04-10T23:10:21.129805Z",
     "start_time": "2021-04-10T23:10:07.034473Z"
    }
   },
   "outputs": [],
   "source": [
    "for row in csv.reader(open('kudos.csv', 'r')):\n",
    "    clean_rows.append([eval(x).decode() for x in row])"
   ]
  },
  {
   "cell_type": "code",
   "execution_count": 4,
   "metadata": {
    "ExecuteTime": {
     "end_time": "2021-04-10T23:10:21.353008Z",
     "start_time": "2021-04-10T23:10:21.130806Z"
    }
   },
   "outputs": [],
   "source": [
    "clean_rows = [x for x in clean_rows if len(x) == 3]"
   ]
  },
  {
   "cell_type": "code",
   "execution_count": 9,
   "metadata": {
    "ExecuteTime": {
     "end_time": "2021-04-10T23:14:47.581003Z",
     "start_time": "2021-04-10T23:14:45.826357Z"
    }
   },
   "outputs": [],
   "source": [
    "g = nx.Graph()\n",
    "users=set()\n",
    "fics=set()\n",
    "fic_dict = {}\n",
    "for row in clean_rows:\n",
    "    fic = row[1]\n",
    "    if fic not in fic_dict:\n",
    "        fic_dict[row[1]] = row[0]\n",
    "    user = row[2]\n",
    "    g.add_edge(fic, user)\n",
    "    users.add(user)\n",
    "    fics.add(fic)\n",
    "fics=np.array(list(fics))\n"
   ]
  },
  {
   "cell_type": "code",
   "execution_count": 54,
   "metadata": {
    "ExecuteTime": {
     "end_time": "2021-04-10T22:26:06.376011Z",
     "start_time": "2021-04-10T22:26:05.025463Z"
    }
   },
   "outputs": [],
   "source": [
    "cov=np.zeros(len(fics))\n",
    "target='27268831'\n",
    "for i in range(0,len(fics)):\n",
    "    if not target== fics[i]:\n",
    "        cov[i]=sum(2 for i in common_neighbors(g, fics[i], target))/(len(g[fics[i]])+len(g[target]))\n"
   ]
  },
  {
   "cell_type": "code",
   "execution_count": 58,
   "metadata": {
    "ExecuteTime": {
     "end_time": "2021-04-10T22:26:28.585703Z",
     "start_time": "2021-04-10T22:26:28.572699Z"
    }
   },
   "outputs": [],
   "source": [
    "num_recs=20"
   ]
  },
  {
   "cell_type": "code",
   "execution_count": 63,
   "metadata": {
    "ExecuteTime": {
     "end_time": "2021-04-10T22:27:38.366288Z",
     "start_time": "2021-04-10T22:27:38.356279Z"
    }
   },
   "outputs": [],
   "source": [
    "top_n_fics=fics[np.flip(np.argsort(cov))[0:num_recs]]\n",
    "top_n_scores=cov[np.flip(np.argsort(cov))[0:num_recs]]\n",
    "top_n_urls=np.core.defchararray.add('https://archiveofourown.org/works/',top_n_fics)\n"
   ]
  },
  {
   "cell_type": "code",
   "execution_count": 64,
   "metadata": {
    "ExecuteTime": {
     "end_time": "2021-04-10T22:27:43.646252Z",
     "start_time": "2021-04-10T22:27:43.629661Z"
    }
   },
   "outputs": [],
   "source": [
    "top_n_titles=[]\n",
    "for id in top_n_fics:\n",
    "    top_n_titles.append(fic_dict[id])"
   ]
  },
  {
   "cell_type": "code",
   "execution_count": 65,
   "metadata": {
    "ExecuteTime": {
     "end_time": "2021-04-10T22:27:43.982037Z",
     "start_time": "2021-04-10T22:27:43.966023Z"
    },
    "collapsed": true
   },
   "outputs": [
    {
     "name": "stdout",
     "output_type": "stream",
     "text": [
      "Top Recomendations for break me like a promise\n"
     ]
    },
    {
     "data": {
      "text/html": [
       "<div>\n",
       "<style scoped>\n",
       "    .dataframe tbody tr th:only-of-type {\n",
       "        vertical-align: middle;\n",
       "    }\n",
       "\n",
       "    .dataframe tbody tr th {\n",
       "        vertical-align: top;\n",
       "    }\n",
       "\n",
       "    .dataframe thead th {\n",
       "        text-align: right;\n",
       "    }\n",
       "</style>\n",
       "<table border=\"1\" class=\"dataframe\">\n",
       "  <thead>\n",
       "    <tr style=\"text-align: right;\">\n",
       "      <th></th>\n",
       "      <th>title</th>\n",
       "      <th>url</th>\n",
       "      <th>score</th>\n",
       "    </tr>\n",
       "  </thead>\n",
       "  <tbody>\n",
       "    <tr>\n",
       "      <th>0</th>\n",
       "      <td>If You Like Piña Coladas (And Getting Caught I...</td>\n",
       "      <td>https://archiveofourown.org/works/28421556</td>\n",
       "      <td>0.396226</td>\n",
       "    </tr>\n",
       "    <tr>\n",
       "      <th>1</th>\n",
       "      <td>keep me in your glow</td>\n",
       "      <td>https://archiveofourown.org/works/28992594</td>\n",
       "      <td>0.393134</td>\n",
       "    </tr>\n",
       "    <tr>\n",
       "      <th>2</th>\n",
       "      <td>just a summer thing</td>\n",
       "      <td>https://archiveofourown.org/works/27360778</td>\n",
       "      <td>0.369589</td>\n",
       "    </tr>\n",
       "    <tr>\n",
       "      <th>3</th>\n",
       "      <td>I Hear The Wind Call Your Name</td>\n",
       "      <td>https://archiveofourown.org/works/29870277</td>\n",
       "      <td>0.357247</td>\n",
       "    </tr>\n",
       "    <tr>\n",
       "      <th>4</th>\n",
       "      <td>smile like a switchblade</td>\n",
       "      <td>https://archiveofourown.org/works/26522239</td>\n",
       "      <td>0.351539</td>\n",
       "    </tr>\n",
       "    <tr>\n",
       "      <th>5</th>\n",
       "      <td>the cat says</td>\n",
       "      <td>https://archiveofourown.org/works/28195053</td>\n",
       "      <td>0.350061</td>\n",
       "    </tr>\n",
       "    <tr>\n",
       "      <th>6</th>\n",
       "      <td>a strange disease like me</td>\n",
       "      <td>https://archiveofourown.org/works/28479213</td>\n",
       "      <td>0.349682</td>\n",
       "    </tr>\n",
       "    <tr>\n",
       "      <th>7</th>\n",
       "      <td>The Night Shift</td>\n",
       "      <td>https://archiveofourown.org/works/25909702</td>\n",
       "      <td>0.346911</td>\n",
       "    </tr>\n",
       "    <tr>\n",
       "      <th>8</th>\n",
       "      <td>glory and gore</td>\n",
       "      <td>https://archiveofourown.org/works/25002529</td>\n",
       "      <td>0.345905</td>\n",
       "    </tr>\n",
       "    <tr>\n",
       "      <th>9</th>\n",
       "      <td>She's A Keeper</td>\n",
       "      <td>https://archiveofourown.org/works/25554244</td>\n",
       "      <td>0.343027</td>\n",
       "    </tr>\n",
       "    <tr>\n",
       "      <th>10</th>\n",
       "      <td>Like Something I Wasn't Aware I'd Left Behind</td>\n",
       "      <td>https://archiveofourown.org/works/26506057</td>\n",
       "      <td>0.323493</td>\n",
       "    </tr>\n",
       "    <tr>\n",
       "      <th>11</th>\n",
       "      <td>Office Hours</td>\n",
       "      <td>https://archiveofourown.org/works/26146579</td>\n",
       "      <td>0.318483</td>\n",
       "    </tr>\n",
       "    <tr>\n",
       "      <th>12</th>\n",
       "      <td>brightmoon diner</td>\n",
       "      <td>https://archiveofourown.org/works/27485596</td>\n",
       "      <td>0.314858</td>\n",
       "    </tr>\n",
       "    <tr>\n",
       "      <th>13</th>\n",
       "      <td>glowing in the dark</td>\n",
       "      <td>https://archiveofourown.org/works/25833256</td>\n",
       "      <td>0.311848</td>\n",
       "    </tr>\n",
       "    <tr>\n",
       "      <th>14</th>\n",
       "      <td>caffè misto</td>\n",
       "      <td>https://archiveofourown.org/works/28241220</td>\n",
       "      <td>0.308008</td>\n",
       "    </tr>\n",
       "    <tr>\n",
       "      <th>15</th>\n",
       "      <td>the roots that sleep</td>\n",
       "      <td>https://archiveofourown.org/works/25097119</td>\n",
       "      <td>0.306652</td>\n",
       "    </tr>\n",
       "    <tr>\n",
       "      <th>16</th>\n",
       "      <td>tip of her tongue</td>\n",
       "      <td>https://archiveofourown.org/works/26169757</td>\n",
       "      <td>0.302512</td>\n",
       "    </tr>\n",
       "    <tr>\n",
       "      <th>17</th>\n",
       "      <td>Mark My Words</td>\n",
       "      <td>https://archiveofourown.org/works/28578420</td>\n",
       "      <td>0.296296</td>\n",
       "    </tr>\n",
       "    <tr>\n",
       "      <th>18</th>\n",
       "      <td>I have faced it, a life wasted</td>\n",
       "      <td>https://archiveofourown.org/works/27928786</td>\n",
       "      <td>0.295873</td>\n",
       "    </tr>\n",
       "    <tr>\n",
       "      <th>19</th>\n",
       "      <td>forever, if you want</td>\n",
       "      <td>https://archiveofourown.org/works/27290260</td>\n",
       "      <td>0.295311</td>\n",
       "    </tr>\n",
       "  </tbody>\n",
       "</table>\n",
       "</div>"
      ],
      "text/plain": [
       "                                                title  \\\n",
       "0   If You Like Piña Coladas (And Getting Caught I...   \n",
       "1                                keep me in your glow   \n",
       "2                                 just a summer thing   \n",
       "3                      I Hear The Wind Call Your Name   \n",
       "4                            smile like a switchblade   \n",
       "5                                        the cat says   \n",
       "6                           a strange disease like me   \n",
       "7                                     The Night Shift   \n",
       "8                                      glory and gore   \n",
       "9                                      She's A Keeper   \n",
       "10      Like Something I Wasn't Aware I'd Left Behind   \n",
       "11                                       Office Hours   \n",
       "12                                   brightmoon diner   \n",
       "13                                glowing in the dark   \n",
       "14                                        caffè misto   \n",
       "15                               the roots that sleep   \n",
       "16                                  tip of her tongue   \n",
       "17                                      Mark My Words   \n",
       "18                     I have faced it, a life wasted   \n",
       "19                               forever, if you want   \n",
       "\n",
       "                                           url     score  \n",
       "0   https://archiveofourown.org/works/28421556  0.396226  \n",
       "1   https://archiveofourown.org/works/28992594  0.393134  \n",
       "2   https://archiveofourown.org/works/27360778  0.369589  \n",
       "3   https://archiveofourown.org/works/29870277  0.357247  \n",
       "4   https://archiveofourown.org/works/26522239  0.351539  \n",
       "5   https://archiveofourown.org/works/28195053  0.350061  \n",
       "6   https://archiveofourown.org/works/28479213  0.349682  \n",
       "7   https://archiveofourown.org/works/25909702  0.346911  \n",
       "8   https://archiveofourown.org/works/25002529  0.345905  \n",
       "9   https://archiveofourown.org/works/25554244  0.343027  \n",
       "10  https://archiveofourown.org/works/26506057  0.323493  \n",
       "11  https://archiveofourown.org/works/26146579  0.318483  \n",
       "12  https://archiveofourown.org/works/27485596  0.314858  \n",
       "13  https://archiveofourown.org/works/25833256  0.311848  \n",
       "14  https://archiveofourown.org/works/28241220  0.308008  \n",
       "15  https://archiveofourown.org/works/25097119  0.306652  \n",
       "16  https://archiveofourown.org/works/26169757  0.302512  \n",
       "17  https://archiveofourown.org/works/28578420  0.296296  \n",
       "18  https://archiveofourown.org/works/27928786  0.295873  \n",
       "19  https://archiveofourown.org/works/27290260  0.295311  "
      ]
     },
     "execution_count": 65,
     "metadata": {},
     "output_type": "execute_result"
    }
   ],
   "source": [
    "df = pd.DataFrame(list(zip(top_n_titles, top_n_urls, top_n_scores )), columns =['title', 'url', 'score']) \n",
    "print(\"Top Recomendations for \"+fic_dict[target])\n",
    "df"
   ]
  },
  {
   "cell_type": "code",
   "execution_count": 16,
   "metadata": {
    "ExecuteTime": {
     "end_time": "2021-04-10T23:34:54.673645Z",
     "start_time": "2021-04-10T23:34:53.546277Z"
    }
   },
   "outputs": [],
   "source": [
    "np.save(\"../data/fics.npy\", fics)\n",
    "nx.write_gpickle(g, '../data/g.gpickle')\n",
    "with open('../data/fic_dict.json', 'w') as fout:\n",
    "    json.dump(fic_dict, fout)"
   ]
  }
 ],
 "metadata": {
  "kernelspec": {
   "display_name": "Python 3",
   "language": "python",
   "name": "python3"
  }
 },
 "nbformat": 4,
 "nbformat_minor": 2
}
