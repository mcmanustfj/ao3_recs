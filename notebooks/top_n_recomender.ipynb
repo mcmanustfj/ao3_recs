{
 "cells": [
  {
   "cell_type": "code",
   "execution_count": 1,
   "metadata": {},
   "outputs": [],
   "source": [
    "import numpy as np\n",
    "from networkx.classes.function import common_neighbors\n",
    "import csv\n",
    "import networkx as nx"
   ]
  },
  {
   "cell_type": "code",
   "execution_count": 2,
   "metadata": {},
   "outputs": [],
   "source": [
    "\n",
    "g = nx.Graph()\n",
    "users=set()\n",
    "fics=set()\n",
    "for row in csv.reader(open('data1.csv', 'r')):\n",
    "    g.add_edge(row[0],row[1])\n",
    "    if row[0] not in users:\n",
    "        users.add(row[0])\n",
    "    if row[1] not in fics:\n",
    "        fics.add(row[1])\n",
    "fics=np.array(list(fics))\n"
   ]
  },
  {
   "cell_type": "code",
   "execution_count": 3,
   "metadata": {},
   "outputs": [
    {
     "data": {
      "text/plain": [
       "array(['17144414', '14934470', '15145694', ..., '721137', '6488623',\n",
       "       '888482'], dtype='<U8')"
      ]
     },
     "execution_count": 3,
     "metadata": {},
     "output_type": "execute_result"
    }
   ],
   "source": [
    "fics"
   ]
  },
  {
   "cell_type": "code",
   "execution_count": 4,
   "metadata": {},
   "outputs": [],
   "source": [
    "cov=np.zeros(len(fics))\n",
    "target='21439369'\n",
    "for i in range(0,len(fics)):\n",
    "    if not target== fics[i]:\n",
    "        cov[i]=sum(2 for i in common_neighbors(g, fics[i], target))/(len(g[fics[i]])+len(g[target]))\n"
   ]
  },
  {
   "cell_type": "code",
   "execution_count": 5,
   "metadata": {},
   "outputs": [],
   "source": [
    "top_n_fics=fics[np.flip(np.argsort(cov))[0:10]]\n",
    "top_n_scores=cov[np.flip(np.argsort(cov))[0:10]]\n",
    "top_n_urls=np.core.defchararray.add('https://archiveofourown.org/works/',top_n_fics)\n"
   ]
  },
  {
   "cell_type": "code",
   "execution_count": 13,
   "metadata": {},
   "outputs": [],
   "source": [
    "import requests\n",
    "from bs4 import BeautifulSoup\n",
    "\n",
    "def get_title(url):\n",
    "    reqs=requests.get(url)\n",
    "    soup=BeautifulSoup(reqs.text, 'lxml')\n",
    "    try:\n",
    "        return soup.title.string.strip(\"\\n \\t\").split(\"-\")[0]\n",
    "    except:\n",
    "        return \"oopppsssiies uh oh\""
   ]
  },
  {
   "cell_type": "code",
   "execution_count": 12,
   "metadata": {},
   "outputs": [
    {
     "name": "stdout",
     "output_type": "stream",
     "text": [
      "> c:\\program files\\python37\\lib\\site-packages\\ipython\\core\\compilerop.py(100)ast_parse()\n",
      "-> return compile(source, filename, symbol, self.flags | PyCF_ONLY_AST, 1)\n",
      "(Pdb) up\n",
      "> c:\\program files\\python37\\lib\\site-packages\\ipython\\core\\interactiveshell.py(2990)run_cell_async()\n",
      "-> code_ast = compiler.ast_parse(cell, filename=cell_name)\n",
      "(Pdb) up\n",
      "*** Oldest frame\n",
      "(Pdb) exit\n"
     ]
    }
   ],
   "source": [
    "import pdb\n",
    "pdb.pm()"
   ]
  },
  {
   "cell_type": "code",
   "execution_count": 14,
   "metadata": {},
   "outputs": [],
   "source": [
    "from time import sleep\n",
    "top_n_titles=[]\n",
    "for url in top_n_urls:\n",
    "    top_n_titles.append(get_title(url))\n",
    "    sleep(2)"
   ]
  },
  {
   "cell_type": "code",
   "execution_count": 15,
   "metadata": {},
   "outputs": [
    {
     "name": "stdout",
     "output_type": "stream",
     "text": [
      "Top Recomendations for As long as we stay together (if we just stay together) \n",
      "                                          tite  \\\n",
      "0                     you did something to me    \n",
      "1                    please take it out on me    \n",
      "2                    kind of a freak accident    \n",
      "3                                 fickle game    \n",
      "4               The Devil Is In (The Details)    \n",
      "5                             upper west side    \n",
      "6                  please could you be tender    \n",
      "7                     Marriage of Convenience    \n",
      "8  buried a hatchet (it’s coming up lavender)    \n",
      "9                             not if it's you    \n",
      "\n",
      "                                          url     score  \n",
      "0  https://archiveofourown.org/works/18995194  0.457447  \n",
      "1  https://archiveofourown.org/works/23523577  0.446602  \n",
      "2  https://archiveofourown.org/works/25342612  0.422018  \n",
      "3  https://archiveofourown.org/works/24766303  0.397590  \n",
      "4  https://archiveofourown.org/works/17584367  0.370861  \n",
      "5  https://archiveofourown.org/works/16851757  0.368715  \n",
      "6  https://archiveofourown.org/works/17994278  0.365714  \n",
      "7  https://archiveofourown.org/works/24468130  0.339869  \n",
      "8  https://archiveofourown.org/works/20186704  0.331288  \n",
      "9  https://archiveofourown.org/works/24161803  0.331210  \n"
     ]
    }
   ],
   "source": [
    "import pandas as pd \n",
    "  \n",
    "df = pd.DataFrame(list(zip(top_n_titles, top_n_urls.tolist(),top_n_scores.tolist() )), columns =['tite', 'url', 'score']) \n",
    "print(\"Top Recomendations for \"+get_title('https://archiveofourown.org/works/'+target))\n",
    "print(df)\n"
   ]
  },
  {
   "cell_type": "code",
   "execution_count": null,
   "metadata": {},
   "outputs": [],
   "source": [
    "g[target]"
   ]
  },
  {
   "cell_type": "code",
   "execution_count": null,
   "metadata": {},
   "outputs": [],
   "source": [
    "g['21439369']"
   ]
  },
  {
   "cell_type": "code",
   "execution_count": 8,
   "metadata": {},
   "outputs": [
    {
     "data": {
      "text/plain": [
       "['you did something to me ',\n",
       " 'please take it out on me ',\n",
       " 'kind of a freak accident ']"
      ]
     },
     "execution_count": 8,
     "metadata": {},
     "output_type": "execute_result"
    }
   ],
   "source": [
    "top_n_titles"
   ]
  },
  {
   "cell_type": "code",
   "execution_count": 9,
   "metadata": {},
   "outputs": [
    {
     "ename": "AttributeError",
     "evalue": "'NoneType' object has no attribute 'string'",
     "output_type": "error",
     "traceback": [
      "\u001b[1;31m---------------------------------------------------------------------------\u001b[0m",
      "\u001b[1;31mAttributeError\u001b[0m                            Traceback (most recent call last)",
      "\u001b[1;32m<ipython-input-9-80b0f9b0c09e>\u001b[0m in \u001b[0;36m<module>\u001b[1;34m\u001b[0m\n\u001b[1;32m----> 1\u001b[1;33m \u001b[0mget_title\u001b[0m\u001b[1;33m(\u001b[0m\u001b[0murl\u001b[0m\u001b[1;33m)\u001b[0m\u001b[1;33m\u001b[0m\u001b[0m\n\u001b[0m",
      "\u001b[1;32m<ipython-input-6-0b7fb9483852>\u001b[0m in \u001b[0;36mget_title\u001b[1;34m(url)\u001b[0m\n\u001b[0;32m      5\u001b[0m     \u001b[0mreqs\u001b[0m\u001b[1;33m=\u001b[0m\u001b[0mrequests\u001b[0m\u001b[1;33m.\u001b[0m\u001b[0mget\u001b[0m\u001b[1;33m(\u001b[0m\u001b[0murl\u001b[0m\u001b[1;33m)\u001b[0m\u001b[1;33m\u001b[0m\u001b[0m\n\u001b[0;32m      6\u001b[0m     \u001b[0msoup\u001b[0m\u001b[1;33m=\u001b[0m\u001b[0mBeautifulSoup\u001b[0m\u001b[1;33m(\u001b[0m\u001b[0mreqs\u001b[0m\u001b[1;33m.\u001b[0m\u001b[0mtext\u001b[0m\u001b[1;33m,\u001b[0m \u001b[1;34m'lxml'\u001b[0m\u001b[1;33m)\u001b[0m\u001b[1;33m\u001b[0m\u001b[0m\n\u001b[1;32m----> 7\u001b[1;33m     \u001b[1;32mreturn\u001b[0m \u001b[0msoup\u001b[0m\u001b[1;33m.\u001b[0m\u001b[0mtitle\u001b[0m\u001b[1;33m.\u001b[0m\u001b[0mstring\u001b[0m\u001b[1;33m.\u001b[0m\u001b[0mstrip\u001b[0m\u001b[1;33m(\u001b[0m\u001b[1;34m\"\\n \\t\"\u001b[0m\u001b[1;33m)\u001b[0m\u001b[1;33m.\u001b[0m\u001b[0msplit\u001b[0m\u001b[1;33m(\u001b[0m\u001b[1;34m\"-\"\u001b[0m\u001b[1;33m)\u001b[0m\u001b[1;33m[\u001b[0m\u001b[1;36m0\u001b[0m\u001b[1;33m]\u001b[0m\u001b[1;33m\u001b[0m\u001b[0m\n\u001b[0m\u001b[0;32m      8\u001b[0m \u001b[1;33m\u001b[0m\u001b[0m\n",
      "\u001b[1;31mAttributeError\u001b[0m: 'NoneType' object has no attribute 'string'"
     ]
    }
   ],
   "source": [
    "get_title(url)"
   ]
  },
  {
   "cell_type": "code",
   "execution_count": 10,
   "metadata": {},
   "outputs": [
    {
     "data": {
      "text/plain": [
       "'https://archiveofourown.org/works/24766303'"
      ]
     },
     "execution_count": 10,
     "metadata": {},
     "output_type": "execute_result"
    }
   ],
   "source": [
    "url"
   ]
  },
  {
   "cell_type": "code",
   "execution_count": null,
   "metadata": {},
   "outputs": [],
   "source": []
  }
 ],
 "metadata": {
  "kernelspec": {
   "display_name": "Python 3",
   "language": "python",
   "name": "python3"
  },
  "language_info": {
   "codemirror_mode": {
    "name": "ipython",
    "version": 3
   },
   "file_extension": ".py",
   "mimetype": "text/x-python",
   "name": "python",
   "nbconvert_exporter": "python",
   "pygments_lexer": "ipython3",
   "version": "3.7.0"
  }
 },
 "nbformat": 4,
 "nbformat_minor": 2
}
