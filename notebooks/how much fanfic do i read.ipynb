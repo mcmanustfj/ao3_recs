{
 "cells": [
  {
   "cell_type": "code",
   "execution_count": 3,
   "metadata": {
    "ExecuteTime": {
     "end_time": "2020-10-19T03:39:34.652505Z",
     "start_time": "2020-10-19T03:39:34.549411Z"
    }
   },
   "outputs": [],
   "source": [
    "import requests\n",
    "from bs4 import BeautifulSoup"
   ]
  },
  {
   "cell_type": "code",
   "execution_count": 41,
   "metadata": {
    "ExecuteTime": {
     "end_time": "2020-10-19T03:54:46.873851Z",
     "start_time": "2020-10-19T03:54:46.871858Z"
    }
   },
   "outputs": [],
   "source": [
    "base_url = 'https://archiveofourown.org/'\n",
    "hist_url = base_url+'users/McRibbedForHerPleasure/readings'"
   ]
  },
  {
   "cell_type": "code",
   "execution_count": 70,
   "metadata": {
    "ExecuteTime": {
     "end_time": "2020-10-19T04:04:07.524650Z",
     "start_time": "2020-10-19T04:04:07.521647Z"
    }
   },
   "outputs": [],
   "source": [
    "s = requests.session()"
   ]
  },
  {
   "cell_type": "code",
   "execution_count": 76,
   "metadata": {
    "ExecuteTime": {
     "end_time": "2020-10-19T04:08:36.987761Z",
     "start_time": "2020-10-19T04:08:36.984759Z"
    }
   },
   "outputs": [],
   "source": [
    "def login(s):\n",
    "    resp = s.get(base_url)\n",
    "    soup = BeautifulSoup(resp.content)\n",
    "    loginform = soup.find('div', id='small_login')\n",
    "    form = {x['name'] : x['value'] for x in loginform.find_all('input', type='hidden')}\n",
    "    form['user[password]'] = 'tomster10010'\n",
    "    form['user[login]'] = 'McRibbedForHerPleasure'\n",
    "    form['commit'] = 'Log In'\n",
    "    resp = s.post('https://archiveofourown.org/users/login', data=form)\n",
    "    return resp"
   ]
  },
  {
   "cell_type": "code",
   "execution_count": 77,
   "metadata": {
    "ExecuteTime": {
     "end_time": "2020-10-19T04:09:02.901558Z",
     "start_time": "2020-10-19T04:08:37.616691Z"
    }
   },
   "outputs": [],
   "source": [
    "resp = login(s)"
   ]
  },
  {
   "cell_type": "code",
   "execution_count": 78,
   "metadata": {
    "ExecuteTime": {
     "end_time": "2020-10-19T04:09:02.905562Z",
     "start_time": "2020-10-19T04:09:02.902559Z"
    }
   },
   "outputs": [
    {
     "data": {
      "text/plain": [
       "'https://archiveofourown.org/?view_adult=true'"
      ]
     },
     "execution_count": 78,
     "metadata": {},
     "output_type": "execute_result"
    }
   ],
   "source": [
    "resp.url"
   ]
  },
  {
   "cell_type": "code",
   "execution_count": 107,
   "metadata": {
    "ExecuteTime": {
     "end_time": "2020-10-19T04:18:53.473792Z",
     "start_time": "2020-10-19T04:18:51.160291Z"
    }
   },
   "outputs": [
    {
     "name": "stdout",
     "output_type": "stream",
     "text": [
      "https://archiveofourown.org//users/McRibbedForHerPleasure/readings?page=1\n",
      "https://archiveofourown.org//users/McRibbedForHerPleasure/readings?page=2\n",
      "https://archiveofourown.org//users/McRibbedForHerPleasure/readings?page=3\n"
     ]
    }
   ],
   "source": [
    "i = 1\n",
    "word_sum=0\n",
    "while(i < 50):\n",
    "    resp = s.get(hist_url, params={'page':i})\n",
    "    print(resp.url)\n",
    "    soup = BeautifulSoup(resp.content)\n",
    "    items = soup('li', class_='reading work blurb group')\n",
    "    yesterday_reached=False\n",
    "    for item in items:\n",
    "        if '17 Oct' in item.find('h4', class_='viewed heading').text:\n",
    "            yesterday_reached=True\n",
    "            break\n",
    "        word_sum += int(item.find('dd', class_='words').text.replace(',',''))\n",
    "    if yesterday_reached:\n",
    "        break\n",
    "    i += 1"
   ]
  },
  {
   "cell_type": "code",
   "execution_count": 108,
   "metadata": {
    "ExecuteTime": {
     "end_time": "2020-10-19T04:18:58.963604Z",
     "start_time": "2020-10-19T04:18:58.960601Z"
    }
   },
   "outputs": [
    {
     "data": {
      "text/plain": [
       "698871"
      ]
     },
     "execution_count": 108,
     "metadata": {},
     "output_type": "execute_result"
    }
   ],
   "source": [
    "word_sum"
   ]
  },
  {
   "cell_type": "code",
   "execution_count": 100,
   "metadata": {
    "ExecuteTime": {
     "end_time": "2020-10-19T04:15:39.379016Z",
     "start_time": "2020-10-19T04:15:38.625653Z"
    }
   },
   "outputs": [],
   "source": [
    "resp = s.get(hist_url, params={'page':2})"
   ]
  },
  {
   "cell_type": "code",
   "execution_count": 101,
   "metadata": {
    "ExecuteTime": {
     "end_time": "2020-10-19T04:15:40.482020Z",
     "start_time": "2020-10-19T04:15:40.433976Z"
    }
   },
   "outputs": [],
   "source": [
    "soup = BeautifulSoup(resp.content)"
   ]
  },
  {
   "cell_type": "code",
   "execution_count": 102,
   "metadata": {
    "ExecuteTime": {
     "end_time": "2020-10-19T04:15:41.903451Z",
     "start_time": "2020-10-19T04:15:41.891440Z"
    }
   },
   "outputs": [],
   "source": [
    "items = soup('li', class_='reading work blurb group')"
   ]
  },
  {
   "cell_type": "code",
   "execution_count": 103,
   "metadata": {
    "ExecuteTime": {
     "end_time": "2020-10-19T04:15:42.569916Z",
     "start_time": "2020-10-19T04:15:42.553908Z"
    }
   },
   "outputs": [
    {
     "name": "stdout",
     "output_type": "stream",
     "text": [
      "6438 True\n",
      "5507 True\n",
      "2888 True\n",
      "6388 True\n",
      "2792 True\n",
      "2285 True\n",
      "2349 True\n",
      "2956 True\n",
      "4367 True\n",
      "2116 True\n",
      "6690 True\n",
      "2375 True\n",
      "19572 True\n",
      "1955 True\n",
      "1978 True\n",
      "2410 True\n",
      "1476 True\n",
      "6797 True\n",
      "12031 True\n",
      "3210 True\n"
     ]
    }
   ],
   "source": [
    "for item in items:\n",
    "    print(int(item.find('dd', class_='words').text.replace(',','')), '18 Oct' in item.find('h4', class_='viewed heading').text)"
   ]
  },
  {
   "cell_type": "code",
   "execution_count": 90,
   "metadata": {
    "ExecuteTime": {
     "end_time": "2020-10-19T04:11:59.618148Z",
     "start_time": "2020-10-19T04:11:59.616146Z"
    }
   },
   "outputs": [],
   "source": [
    "item = items[0]"
   ]
  },
  {
   "cell_type": "code",
   "execution_count": 98,
   "metadata": {
    "ExecuteTime": {
     "end_time": "2020-10-19T04:14:28.916909Z",
     "start_time": "2020-10-19T04:14:28.913906Z"
    }
   },
   "outputs": [
    {
     "data": {
      "text/plain": [
       "7337"
      ]
     },
     "execution_count": 98,
     "metadata": {},
     "output_type": "execute_result"
    }
   ],
   "source": [
    "int(item.find('dd', class_='words').text.replace(',',''))"
   ]
  },
  {
   "cell_type": "code",
   "execution_count": 95,
   "metadata": {
    "ExecuteTime": {
     "end_time": "2020-10-19T04:13:07.251189Z",
     "start_time": "2020-10-19T04:13:07.248186Z"
    }
   },
   "outputs": [
    {
     "data": {
      "text/plain": [
       "'\\nLast visited: 18 Oct 2020\\n\\n          (Latest version.)\\n\\n          Visited once\\n\\n\\n\\n    '"
      ]
     },
     "execution_count": 95,
     "metadata": {},
     "output_type": "execute_result"
    }
   ],
   "source": [
    "item.find('h4', class_='viewed heading').text"
   ]
  }
 ],
 "metadata": {
  "kernelspec": {
   "display_name": "Python 3",
   "language": "python",
   "name": "python3"
  },
  "language_info": {
   "codemirror_mode": {
    "name": "ipython",
    "version": 3
   },
   "file_extension": ".py",
   "mimetype": "text/x-python",
   "name": "python",
   "nbconvert_exporter": "python",
   "pygments_lexer": "ipython3",
   "version": "3.7.4"
  }
 },
 "nbformat": 4,
 "nbformat_minor": 2
}
