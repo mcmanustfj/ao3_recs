{
 "cells": [
  {
   "cell_type": "code",
   "execution_count": 1,
   "metadata": {
    "ExecuteTime": {
     "end_time": "2021-04-06T18:12:24.595302Z",
     "start_time": "2021-04-06T18:12:23.853276Z"
    }
   },
   "outputs": [],
   "source": [
    "import requests\n",
    "from bs4 import BeautifulSoup\n",
    "import sqlite3\n",
    "import os\n",
    "import urllib\n",
    "from retry import retry\n",
    "import time\n",
    "import pdb\n",
    "from tqdm.notebook import tqdm \n",
    "import sqlite3\n",
    "from ratelimiter import RateLimiter\n",
    "import re\n",
    "from ao3 import AO3\n",
    "from ao3.works import Work as AWork\n",
    "import sqlalchemy\n",
    "\n",
    "from sqlalchemy.ext.declarative import declarative_base\n",
    "from sqlalchemy import Column, Integer, String, JSON, ForeignKey, Table\n",
    "from sqlalchemy.orm import relationship, Session, configure_mappers"
   ]
  },
  {
   "cell_type": "code",
   "execution_count": 2,
   "metadata": {
    "ExecuteTime": {
     "end_time": "2021-04-04T22:35:15.023206Z",
     "start_time": "2021-04-04T22:35:14.979875Z"
    }
   },
   "outputs": [],
   "source": [
    "# !del kudos.db"
   ]
  },
  {
   "cell_type": "markdown",
   "metadata": {},
   "source": [
    "##### schema"
   ]
  },
  {
   "cell_type": "code",
   "execution_count": 2,
   "metadata": {
    "ExecuteTime": {
     "end_time": "2021-04-06T18:12:27.168505Z",
     "start_time": "2021-04-06T18:12:27.073006Z"
    }
   },
   "outputs": [],
   "source": [
    "engine = sqlalchemy.create_engine('sqlite:///kudos.db')\n",
    "# engine = sqlalchemy.create_engine('sqlite:///:memory:')\n",
    "Base = declarative_base()\n",
    "\n",
    "\n",
    "kudos_table = Table('kudos', Base.metadata,\n",
    "    Column('user', String, ForeignKey('users.id')),\n",
    "    Column('work', Integer, ForeignKey('works.id')),\n",
    "    extend_existing=True\n",
    ")\n",
    "\n",
    "bookmarks_table = Table(\n",
    "    'bookmarks',\n",
    "    Base.metadata,\n",
    "    Column('user', String, ForeignKey('users.id')),\n",
    "    Column('work', Integer, ForeignKey('works.id')),\n",
    "    extend_existing=True\n",
    ")\n",
    "\n",
    "class User(Base):\n",
    "    __tablename__ = 'users'\n",
    "    __table_args__ = {'extend_existing': True} \n",
    "\n",
    "    id = Column(String, primary_key=True)\n",
    "    works = relationship('Work', backref='author')\n",
    "\n",
    "    def __repr__(self):\n",
    "        return f\"User(id='{self.id}')\"\n",
    "\n",
    "    \n",
    "class Work(Base):\n",
    "    __tablename__ = 'works'\n",
    "    __table_args__ = {'extend_existing': True} \n",
    "\n",
    "    id = Column(Integer, primary_key=True)\n",
    "    title = Column(String)\n",
    "    author_id = Column(String, ForeignKey('users.id'), nullable=True)\n",
    "    json=Column(JSON, nullable=True)\n",
    "    \n",
    "    def __repr__(self):\n",
    "        return f\"Work(id={repr(self.id)}, \\\"{self.title}\\\" by {self.author.id})\"\n",
    "\n",
    "    kudos = relationship(\"User\",\n",
    "                    secondary=kudos_table,\n",
    "                    backref='kudos')\n",
    "    \n",
    "    bookmarks = relationship(\"User\",\n",
    "                secondary=bookmarks_table,\n",
    "                backref='bookmarks')\n",
    "\n",
    "Base.metadata.create_all(engine)"
   ]
  },
  {
   "cell_type": "code",
   "execution_count": 3,
   "metadata": {
    "ExecuteTime": {
     "end_time": "2021-04-06T18:12:40.549831Z",
     "start_time": "2021-04-06T18:12:40.528262Z"
    }
   },
   "outputs": [],
   "source": [
    "session = Session(bind=engine)\n",
    "conn = engine.connect()"
   ]
  },
  {
   "cell_type": "code",
   "execution_count": 4,
   "metadata": {
    "ExecuteTime": {
     "end_time": "2021-04-05T16:54:10.438063Z",
     "start_time": "2021-04-05T16:54:10.417183Z"
    }
   },
   "outputs": [],
   "source": [
    "ratelimiter = RateLimiter(max_calls=12, period=41)"
   ]
  },
  {
   "cell_type": "markdown",
   "metadata": {
    "heading_collapsed": true
   },
   "source": [
    "##### ingestion"
   ]
  },
  {
   "cell_type": "code",
   "execution_count": 5,
   "metadata": {
    "ExecuteTime": {
     "end_time": "2021-04-05T03:45:07.809532Z",
     "start_time": "2021-04-05T03:45:07.799572Z"
    },
    "code_folding": [
     1,
     11
    ],
    "hidden": true
   },
   "outputs": [],
   "source": [
    "\n",
    "def get_or_create(session, model, **kwargs):\n",
    "    instance = session.query(model).filter_by(**kwargs).first()\n",
    "    if instance:\n",
    "        return instance\n",
    "    else:\n",
    "        instance = model(**kwargs)\n",
    "        session.add(instance)\n",
    "        session.commit()\n",
    "        return instance\n",
    "    \n",
    "def awork_to_work(session, awork, works, users):\n",
    "    if awork.author not in users:\n",
    "        author = User(id=awork.author)\n",
    "        session.add(author)\n",
    "        users.add(author.id)\n",
    "    if awork.id not in works:\n",
    "        ret = Work(id=awork.id,\n",
    "                   author_id=awork.author,\n",
    "                   title=awork.title,\n",
    "                   json=awork.json())\n",
    "        session.add(ret)\n",
    "        works.add(awork.id)\n"
   ]
  },
  {
   "cell_type": "code",
   "execution_count": 6,
   "metadata": {
    "ExecuteTime": {
     "end_time": "2021-04-05T03:45:08.911206Z",
     "start_time": "2021-04-05T03:45:08.901819Z"
    },
    "hidden": true
   },
   "outputs": [],
   "source": [
    "def ingest_page(session, page, works=set(), users=set()):\n",
    "    with open(f'./data/pages/shera-{page}.html', 'rb') as fin:\n",
    "        data = fin.read()\n",
    "    soup = BeautifulSoup(data.decode('utf-8'))\n",
    "    blurbs = soup.find('ol', {'class': 'work index group'.split()}) \\\n",
    "                .find_all('li', {'class': 'work blurb group'.split()})\n",
    "    for blurb in blurbs:\n",
    "        try:\n",
    "            awork = AWork(int(blurb.a['href'].split('/')[-1]), soup=blurb)\n",
    "            awork_to_work(session, \n",
    "                          awork,\n",
    "                          works,\n",
    "                          users\n",
    "                         )\n",
    "            session.commit()\n",
    "        except:\n",
    "            print(f\"Could not process work {awork.id} on page {page}\")\n",
    "            session.rollback()\n",
    "            continue"
   ]
  },
  {
   "cell_type": "code",
   "execution_count": 23,
   "metadata": {
    "ExecuteTime": {
     "end_time": "2021-04-04T23:17:21.876340Z",
     "start_time": "2021-04-04T23:12:37.538973Z"
    },
    "hidden": true
   },
   "outputs": [
    {
     "data": {
      "application/vnd.jupyter.widget-view+json": {
       "model_id": "c52659e85da74b76855a9a52aa3808ec",
       "version_major": 2,
       "version_minor": 0
      },
      "text/plain": [
       "HBox(children=(HTML(value=''), FloatProgress(value=0.0, max=116.0), HTML(value='')))"
      ]
     },
     "metadata": {},
     "output_type": "display_data"
    },
    {
     "name": "stdout",
     "output_type": "stream",
     "text": [
      "Could not process work 27588422 on page 477\n",
      "Could not process work 29148855 on page 543\n",
      "Could not process work 29434971 on page 553\n",
      "\n"
     ]
    }
   ],
   "source": [
    "works = {x[0] for x in session.query(Work.id).all()}\n",
    "users = {x[0] for x in session.query(User.id).all()}\n",
    "for page in tqdm(range(476, 592)): # 476\n",
    "    ingest_page(session, page, works, users)"
   ]
  },
  {
   "cell_type": "code",
   "execution_count": null,
   "metadata": {
    "hidden": true
   },
   "outputs": [],
   "source": [
    "no_wc = [27588422,29148855,29434971]"
   ]
  },
  {
   "cell_type": "code",
   "execution_count": 7,
   "metadata": {
    "ExecuteTime": {
     "end_time": "2021-04-05T03:45:13.721148Z",
     "start_time": "2021-04-05T03:45:13.695749Z"
    },
    "hidden": true
   },
   "outputs": [
    {
     "data": {
      "text/plain": [
       "4646"
      ]
     },
     "execution_count": 7,
     "metadata": {},
     "output_type": "execute_result"
    }
   ],
   "source": [
    "session.query(User).count()"
   ]
  },
  {
   "cell_type": "code",
   "execution_count": 8,
   "metadata": {
    "ExecuteTime": {
     "end_time": "2021-04-05T03:45:14.480708Z",
     "start_time": "2021-04-05T03:45:14.457385Z"
    },
    "hidden": true
   },
   "outputs": [
    {
     "data": {
      "text/plain": [
       "11734"
      ]
     },
     "execution_count": 8,
     "metadata": {},
     "output_type": "execute_result"
    }
   ],
   "source": [
    "session.query(Work).count()"
   ]
  },
  {
   "cell_type": "markdown",
   "metadata": {},
   "source": [
    "##### kudos"
   ]
  },
  {
   "cell_type": "code",
   "execution_count": 29,
   "metadata": {
    "ExecuteTime": {
     "end_time": "2021-04-05T01:42:49.578488Z",
     "start_time": "2021-04-05T01:42:49.557420Z"
    },
    "code_folding": [
     0
    ]
   },
   "outputs": [],
   "source": [
    "class RatelimitedHttpHandler(object):\n",
    "    def __init__(self, ratelimiter, sess=None, max_retries=3):\n",
    "        self.ratelimiter=ratelimiter\n",
    "        self.sess = sess or requests.Session()\n",
    "        self.retries=0\n",
    "        self.max_retries=max_retries\n",
    "        \n",
    "    def get_work_soup(self, work_id):\n",
    "        \"\"\"Get the BeautifulSoup of a given work.\n",
    "\n",
    "        Parameters\n",
    "        ----------\n",
    "        work_id : str or int\n",
    "            AO3 ID of work.\n",
    "\n",
    "        Returns\n",
    "        -------\n",
    "        BeautifulSoup object\n",
    "            Soup of work.\n",
    "\n",
    "        \"\"\"\n",
    "        with ratelimiter:\n",
    "            req = self.sess.get('https://archiveofourown.org/works/%s?view_adult=true' % work_id)\n",
    "\n",
    "        if req.status_code == 404:\n",
    "            raise LookupError('Unable to find a work with id %r' % work_id)\n",
    "        elif req.status_code != 200:\n",
    "            if req.text == 'Retry later' and self.retries < self.max_retries:\n",
    "                time.sleep(300)\n",
    "                self.retries += 1\n",
    "                self.get_work_soup(work_id)\n",
    "                self.retries=0\n",
    "\n",
    "\n",
    "        # For some works, AO3 throws up an interstitial page asking you to\n",
    "        # confirm that you really want to see the adult works.  Yes, we do.\n",
    "        if 'This work could have adult content' in req.text:\n",
    "            with ratelimiter:\n",
    "                req = self.sess.get(\n",
    "                    f'https://archiveofourown.org/works/{work_id}?view_adult=true')\n",
    "\n",
    "                \n",
    "        if 'This work is only available to registered users' in req.text:\n",
    "            raise RuntimeError('Looking at work ID {} requires login'.format(work_id))\n",
    "\n",
    "        return req.text\n"
   ]
  },
  {
   "cell_type": "code",
   "execution_count": 5,
   "metadata": {
    "ExecuteTime": {
     "end_time": "2021-04-05T16:54:13.261956Z",
     "start_time": "2021-04-05T16:54:13.240230Z"
    },
    "code_folding": [
     4
    ]
   },
   "outputs": [],
   "source": [
    "s = requests.Session()\n",
    "s.headers['accept'] = '*/*;q=0.5, text/javascript, application/javascript, application/ecmascript, application/x-ecmascript'\n",
    "s.headers['accept-encoding'] = 'gzip, deflate, br'\n",
    "s.headers['x-requested-with'] = 'XMLHttpRequest'\n",
    "'''\n",
    "    # headers_str=''\n",
    "\n",
    "    # headers = {}\n",
    "    # lines =  headers_str.split('\\n')\n",
    "    # for line in lines:\n",
    "    #     if not line:\n",
    "    #         continue\n",
    "    #     try:\n",
    "    #         k, *v = line.split(':')\n",
    "    #         headers[k] = ''.join(v).strip()\n",
    "    #     except:\n",
    "    #         print(line)\n",
    "    #         break\n",
    "\n",
    "    # s.headers.update(headers)''\n",
    "    ''';"
   ]
  },
  {
   "cell_type": "code",
   "execution_count": 6,
   "metadata": {
    "ExecuteTime": {
     "end_time": "2021-04-05T16:54:13.526442Z",
     "start_time": "2021-04-05T16:54:13.489826Z"
    }
   },
   "outputs": [],
   "source": [
    "@retry(RuntimeError, tries=4, delay=2, backoff=5, max_delay=300)\n",
    "def helper(url):\n",
    "    resp = s.get(url)\n",
    "    if resp.status_code != 200:\n",
    "        if 'retry later' in resp.text.lower():\n",
    "            raise RuntimeError(\"Rate limit reached\")\n",
    "        else:\n",
    "            resp.raise_for_status()\n",
    "            \n",
    "    return resp\n",
    "\n",
    "def get_kudos_for_work(work_id):\n",
    "    if isinstance(work_id, Work):\n",
    "        work_id = work_id.id\n",
    "    before = None\n",
    "    while True:\n",
    "        base_url = f'https://www.archiveofourown.org/works/{work_id}/kudos'\n",
    "        with ratelimiter:\n",
    "            if before:\n",
    "                resp = helper(base_url+f'?before={before}')\n",
    "            else:\n",
    "                resp = helper(base_url)\n",
    "\n",
    "        soup = BeautifulSoup(resp.content)\n",
    "        yield [x['href'].split('/')[-1][:-2] for x in soup.find_all('a', {'href': re.compile(r'/users/.*')})]\n",
    "        if match := re.search(r'.*\\/kudos\\?before=(\\d*).*', resp.content.decode()):\n",
    "            before = match.group(1)\n",
    "        else:\n",
    "            return\n",
    "        \n",
    "def get_kudos_for_work_list(work_id):\n",
    "    if isinstance(work_id, Work):\n",
    "        work_id = work_id.id\n",
    "    before = None\n",
    "    ret = []\n",
    "    while True:\n",
    "        base_url = f'https://www.archiveofourown.org/works/{work_id}/kudos'\n",
    "        with ratelimiter:\n",
    "            if before:\n",
    "                resp = s.get(base_url+f'?before={before}')\n",
    "            else:\n",
    "                resp = s.get(base_url)\n",
    "\n",
    "        soup = BeautifulSoup(resp.content)\n",
    "        breakpoint()\n",
    "        ret += [x['href'].split('/')[-1][:-2] for x in soup.find_all('a', {'href': re.compile(r'/users/.*')})]\n",
    "        if match := re.search(r'.*\\/kudos\\?before=(\\d*).*', resp.content.decode()):\n",
    "            before = match.group(1)\n",
    "        else:\n",
    "            return ret"
   ]
  },
  {
   "cell_type": "code",
   "execution_count": 7,
   "metadata": {
    "ExecuteTime": {
     "end_time": "2021-04-05T16:54:15.787609Z",
     "start_time": "2021-04-05T16:54:15.766580Z"
    }
   },
   "outputs": [],
   "source": [
    "def insert_kudos_for_work(work, user_set):\n",
    "    work.kudos = []\n",
    "    for user_list in get_kudos_for_work(work.id):\n",
    "        existing_users = []\n",
    "        new_users = []\n",
    "        for user in user_list:\n",
    "            if user not in user_set:\n",
    "                new_users.append(User(id=user))\n",
    "                user_set.add(user)\n",
    "            else:\n",
    "                existing_users.append(user)\n",
    "        work.kudos += (session.query(User)\n",
    "                      .filter(User.id.in_(existing_users))\n",
    "                      .all()) + new_users\n",
    "        session.add_all(new_users)\n",
    "    session.commit()\n",
    "            "
   ]
  },
  {
   "cell_type": "code",
   "execution_count": 8,
   "metadata": {
    "ExecuteTime": {
     "end_time": "2021-04-05T16:54:35.104689Z",
     "start_time": "2021-04-05T16:54:33.208463Z"
    }
   },
   "outputs": [],
   "source": [
    "user_set = {x.id for x in session.query(User)}\n",
    "works = session.query(Work).all()"
   ]
  },
  {
   "cell_type": "code",
   "execution_count": 16,
   "metadata": {
    "ExecuteTime": {
     "end_time": "2021-04-06T14:15:43.790218Z",
     "start_time": "2021-04-05T16:55:45.822488Z"
    },
    "scrolled": true
   },
   "outputs": [
    {
     "data": {
      "application/vnd.jupyter.widget-view+json": {
       "model_id": "453cc3cb7b10470689283970392075b3",
       "version_major": 2,
       "version_minor": 0
      },
      "text/plain": [
       "HBox(children=(HTML(value=''), FloatProgress(value=0.0, max=10334.0), HTML(value='')))"
      ]
     },
     "metadata": {},
     "output_type": "display_data"
    },
    {
     "name": "stdout",
     "output_type": "stream",
     "text": [
      "Failed to insert kudos for Work(id=22129282, \"A Night to Remember\" by Alice_h)\n",
      "Failed to insert kudos for Work(id=24318193, \"finally, a future\" by scatteredpeas)\n",
      "\n"
     ]
    }
   ],
   "source": [
    "for work in tqdm(works[1400:]):\n",
    "    if work.kudos:\n",
    "        continue\n",
    "    try:\n",
    "        insert_kudos_for_work(work, user_set)\n",
    "    except:\n",
    "        print(f\"Failed to insert kudos for {work}\")\n",
    "        session.rollback()"
   ]
  },
  {
   "cell_type": "code",
   "execution_count": 21,
   "metadata": {
    "ExecuteTime": {
     "end_time": "2021-04-06T15:36:33.309632Z",
     "start_time": "2021-04-06T15:36:33.191512Z"
    }
   },
   "outputs": [],
   "source": [
    "works = session.query(Work).all()"
   ]
  },
  {
   "cell_type": "code",
   "execution_count": 22,
   "metadata": {
    "ExecuteTime": {
     "end_time": "2021-04-06T15:39:57.894854Z",
     "start_time": "2021-04-06T15:39:57.884760Z"
    }
   },
   "outputs": [],
   "source": [
    "import csv"
   ]
  },
  {
   "cell_type": "code",
   "execution_count": 27,
   "metadata": {
    "ExecuteTime": {
     "end_time": "2021-04-06T15:58:41.697278Z",
     "start_time": "2021-04-06T15:48:44.172376Z"
    }
   },
   "outputs": [
    {
     "data": {
      "application/vnd.jupyter.widget-view+json": {
       "model_id": "5354dd8a1d2e4ec0a5b3628e348450ab",
       "version_major": 2,
       "version_minor": 0
      },
      "text/plain": [
       "HBox(children=(HTML(value=''), FloatProgress(value=0.0, max=11734.0), HTML(value='')))"
      ]
     },
     "metadata": {},
     "output_type": "display_data"
    },
    {
     "name": "stdout",
     "output_type": "stream",
     "text": [
      "\n"
     ]
    }
   ],
   "source": [
    "with open('kudos.csv', 'w') as fout:\n",
    "    writer = csv.writer(fout, quoting=csv.QUOTE_ALL)\n",
    "    for work in tqdm(works):\n",
    "        for user in work.kudos:\n",
    "            writer.writerow([work.title.encode('utf-8'), \n",
    "                             str(work.id).encode('utf-8'), \n",
    "                             user.id.encode('utf-8')])"
   ]
  },
  {
   "cell_type": "code",
   "execution_count": 31,
   "metadata": {
    "ExecuteTime": {
     "end_time": "2021-04-06T17:51:44.447089Z",
     "start_time": "2021-04-06T17:51:44.437399Z"
    }
   },
   "outputs": [],
   "source": [
    "me = session.query(User).get('McRibbedForHerPleasure')"
   ]
  },
  {
   "cell_type": "code",
   "execution_count": 34,
   "metadata": {
    "ExecuteTime": {
     "end_time": "2021-04-06T17:52:08.157751Z",
     "start_time": "2021-04-06T17:52:08.150375Z"
    }
   },
   "outputs": [
    {
     "data": {
      "text/plain": [
       "98"
      ]
     },
     "execution_count": 34,
     "metadata": {},
     "output_type": "execute_result"
    }
   ],
   "source": [
    "len(me.kudos)"
   ]
  }
 ],
 "metadata": {
  "kernelspec": {
   "display_name": "Python 3",
   "language": "python",
   "name": "python3"
  },
  "language_info": {
   "codemirror_mode": {
    "name": "ipython",
    "version": 3
   },
   "file_extension": ".py",
   "mimetype": "text/x-python",
   "name": "python",
   "nbconvert_exporter": "python",
   "pygments_lexer": "ipython3",
   "version": "3.8.1"
  }
 },
 "nbformat": 4,
 "nbformat_minor": 2
}
