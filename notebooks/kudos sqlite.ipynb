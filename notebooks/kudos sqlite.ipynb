{
 "cells": [
  {
   "cell_type": "code",
   "execution_count": 1,
   "metadata": {
    "ExecuteTime": {
     "end_time": "2021-01-18T21:41:02.936673Z",
     "start_time": "2021-01-18T21:41:02.718767Z"
    }
   },
   "outputs": [],
   "source": [
    "import requests\n",
    "from bs4 import BeautifulSoup\n",
    "import sqlite3\n",
    "import os\n",
    "import urllib\n",
    "from retry import retry\n",
    "import time\n",
    "import pdb\n",
    "from tqdm.notebook import tqdm \n",
    "import sqlite3\n",
    "from ratelimiter import RateLimiter\n",
    "import re\n",
    "from ao3 import AO3\n",
    "import sqlalchemy"
   ]
  },
  {
   "cell_type": "code",
   "execution_count": 89,
   "metadata": {
    "ExecuteTime": {
     "end_time": "2021-01-18T22:32:59.772515Z",
     "start_time": "2021-01-18T22:32:59.754564Z"
    }
   },
   "outputs": [
    {
     "name": "stdout",
     "output_type": "stream",
     "text": [
      "C:\\users\\mcman\\PycharmProjects\\ao3_recs\\notebooks\\kudos.db\n"
     ]
    },
    {
     "name": "stderr",
     "output_type": "stream",
     "text": [
      "The process cannot access the file because it is being used by another process.\n"
     ]
    }
   ],
   "source": [
    "!del kudos.db"
   ]
  },
  {
   "cell_type": "code",
   "execution_count": 2,
   "metadata": {
    "ExecuteTime": {
     "end_time": "2021-01-18T21:41:04.218026Z",
     "start_time": "2021-01-18T21:41:04.156208Z"
    }
   },
   "outputs": [],
   "source": [
    "from sqlalchemy.ext.declarative import declarative_base\n",
    "from sqlalchemy import Column, Integer, String, JSON, ForeignKey, Table\n",
    "from sqlalchemy.orm import relationship, Session, configure_mappers"
   ]
  },
  {
   "cell_type": "code",
   "execution_count": 3,
   "metadata": {
    "ExecuteTime": {
     "end_time": "2021-01-18T21:41:06.549904Z",
     "start_time": "2021-01-18T21:41:06.521996Z"
    }
   },
   "outputs": [],
   "source": [
    "engine = sqlalchemy.create_engine('sqlite:///kudos.db')\n",
    "# engine = sqlalchemy.create_engine('sqlite:///:memory:')\n",
    "Base = declarative_base()\n",
    "\n",
    "class User(Base):\n",
    "    __tablename__ = 'users'\n",
    "    __table_args__ = {'extend_existing': True} \n",
    "\n",
    "    id = Column(String, primary_key=True)\n",
    "    works = relationship('Work', backref='author')\n",
    "\n",
    "    def __repr__(self):\n",
    "        return f\"User(id='{self.id}')\"\n",
    "\n",
    "    \n",
    "class Work(Base):\n",
    "    __tablename__ = 'works'\n",
    "    __table_args__ = {'extend_existing': True} \n",
    "\n",
    "    id = Column(Integer, primary_key=True)\n",
    "    title = Column(String)\n",
    "    author_id = Column(String, ForeignKey('users.id'))\n",
    "#     json=Column(JSON)  TODO make this work\n",
    "    \n",
    "    def __repr__(self):\n",
    "        return f\"Work(id={repr(self.id)}, title={repr(self.title)})\"\n",
    "\n",
    "    kudos_left_by = relationship(\"User\",\n",
    "                    secondary=lambda: kudos_table,\n",
    "                    backref='kudos')\n",
    "\n",
    "\n",
    "\n",
    "kudos_table = Table('kudos', Base.metadata,\n",
    "    Column('user', String, ForeignKey('users.id')),\n",
    "    Column('work', Integer, ForeignKey('works.id')),\n",
    "    extend_existing=True\n",
    ")\n",
    "Base.metadata.create_all(engine)"
   ]
  },
  {
   "cell_type": "code",
   "execution_count": 86,
   "metadata": {
    "ExecuteTime": {
     "end_time": "2021-01-18T22:30:47.552176Z",
     "start_time": "2021-01-18T22:30:47.548184Z"
    }
   },
   "outputs": [],
   "source": [
    "ratelimiter = RateLimiter(max_calls=10, period=30)"
   ]
  },
  {
   "cell_type": "code",
   "execution_count": 5,
   "metadata": {
    "ExecuteTime": {
     "end_time": "2021-01-18T21:41:12.525756Z",
     "start_time": "2021-01-18T21:41:12.520784Z"
    }
   },
   "outputs": [],
   "source": [
    "base_url = 'https://archiveofourown.org/'\n",
    "base_fandom = 'https://archiveofourown.org/tags/{fandom}/works'\n",
    "shera = 'She-Ra%20and%20the%20Princesses%20of%20Power%20(2018)'\n",
    "base_qs = {'utf8': ['✓'],\n",
    " 'commit': ['Sort and Filter'],\n",
    " 'work_search[sort_column]': ['created_at'],\n",
    " 'work_search[query]': ['sort:>posted'],\n",
    " 'page': ['1']}\n",
    "pages = 537"
   ]
  },
  {
   "cell_type": "code",
   "execution_count": 14,
   "metadata": {
    "ExecuteTime": {
     "end_time": "2021-01-18T21:43:08.845370Z",
     "start_time": "2021-01-18T21:43:07.638884Z"
    }
   },
   "outputs": [],
   "source": [
    "resp=requests.get(base_fandom.format(fandom=shera), params=base_qs)\n",
    "\n",
    "soup = BeautifulSoup(resp.content)\n",
    "\n",
    "works_on_page = [x['href'].split('/')[2] for x in soup.find_all('a', {'href':re.compile('^/works/\\d+$')})]\n",
    "\n",
    "ao3 = AO3()\n",
    "\n",
    "work = ao3.work(works_on_page[0])"
   ]
  },
  {
   "cell_type": "code",
   "execution_count": 15,
   "metadata": {
    "ExecuteTime": {
     "end_time": "2021-01-18T21:43:08.852325Z",
     "start_time": "2021-01-18T21:43:08.847314Z"
    }
   },
   "outputs": [
    {
     "data": {
      "text/plain": [
       "['20440244',\n",
       " '20440316',\n",
       " '20440652',\n",
       " '20441951',\n",
       " '20442869',\n",
       " '20442929',\n",
       " '20443265',\n",
       " '20443880',\n",
       " '20444141',\n",
       " '20444627',\n",
       " '20445464',\n",
       " '20450285',\n",
       " '20450966',\n",
       " '20453540',\n",
       " '20453750',\n",
       " '20454104',\n",
       " '20454308',\n",
       " '20454383',\n",
       " '20458088',\n",
       " '20458118']"
      ]
     },
     "execution_count": 15,
     "metadata": {},
     "output_type": "execute_result"
    }
   ],
   "source": [
    "works_on_page"
   ]
  },
  {
   "cell_type": "code",
   "execution_count": 6,
   "metadata": {
    "ExecuteTime": {
     "end_time": "2021-01-18T21:41:27.138445Z",
     "start_time": "2021-01-18T21:41:27.135457Z"
    }
   },
   "outputs": [],
   "source": [
    "ao3=AO3()"
   ]
  },
  {
   "cell_type": "code",
   "execution_count": 7,
   "metadata": {
    "ExecuteTime": {
     "end_time": "2021-01-18T21:41:28.861041Z",
     "start_time": "2021-01-18T21:41:28.857111Z"
    }
   },
   "outputs": [],
   "source": [
    "session = Session(bind=engine)"
   ]
  },
  {
   "cell_type": "code",
   "execution_count": 73,
   "metadata": {
    "ExecuteTime": {
     "end_time": "2021-01-18T22:03:55.321082Z",
     "start_time": "2021-01-18T22:03:55.314039Z"
    }
   },
   "outputs": [],
   "source": [
    "def get_or_create(session, model, **kwargs):\n",
    "    instance = session.query(model).filter_by(**kwargs).first()\n",
    "    if instance:\n",
    "        return instance\n",
    "    else:\n",
    "        instance = model(**kwargs)\n",
    "        session.add(instance)\n",
    "        session.commit()\n",
    "        return instance\n",
    "    \n",
    "def process_work(work_id):\n",
    "    with ratelimiter:\n",
    "        work = ao3.work(work_id)\n",
    "    try:\n",
    "        author = get_or_create(session, User, id=work.author)\n",
    "        work_db = get_or_create(session, Work, id=int(work.id), \n",
    "                        title=work.title, \n",
    "                        author=author)\n",
    "    except: # todo: fix author for works by anonymous (16623428)\n",
    "        work_db = get_or_create(session, Work, id=int(work.id), \n",
    "                        title=work.title)\n",
    "    \n",
    "    kudos = list(work.kudos_left_by)\n",
    "    existing_users_kudos = [x for x in session.query(User) if x.id in kudos]\n",
    "    new_kudos = [User(id=x) for x in kudos if x not in (u.id for u in existing_users_kudos)]\n",
    "    work_db.kudos_left_by = existing_users_kudos+new_kudos\n",
    "    session.add(work_db)\n",
    "    session.commit()"
   ]
  },
  {
   "cell_type": "code",
   "execution_count": 90,
   "metadata": {
    "ExecuteTime": {
     "end_time": "2021-01-19T00:39:09.962903Z",
     "start_time": "2021-01-18T22:36:51.133424Z"
    }
   },
   "outputs": [
    {
     "data": {
      "application/vnd.jupyter.widget-view+json": {
       "model_id": "7432c44c495440debafcf77efc8a22b5",
       "version_major": 2,
       "version_minor": 0
      },
      "text/plain": [
       "HBox(children=(HTML(value=''), FloatProgress(value=0.0, max=537.0), HTML(value='')))"
      ]
     },
     "metadata": {},
     "output_type": "display_data"
    },
    {
     "name": "stdout",
     "output_type": "stream",
     "text": [
      "'NoneType' object has no attribute 'contents' Work id: 16746358\n",
      "'NoneType' object has no attribute 'contents' Work id: 16746598\n",
      "'NoneType' object has no attribute 'contents' Work id: 17810264\n",
      "'NoneType' object has no attribute 'contents' Work id: 17930453\n",
      "'NoneType' object has no attribute 'contents' Work id: 17930486\n",
      "'NoneType' object has no attribute 'contents' Work id: 17932343\n",
      "'NoneType' object has no attribute 'contents' Work id: 18942466\n",
      "'NoneType' object has no attribute 'contents' Work id: 18942490\n",
      "'NoneType' object has no attribute 'contents' Work id: 18949180\n",
      "'NoneType' object has no attribute 'contents' Work id: 18954202\n",
      "'NoneType' object has no attribute 'contents' Work id: 18954670\n",
      "'NoneType' object has no attribute 'contents' Work id: 18957028\n",
      "'NoneType' object has no attribute 'contents' Work id: 18958240\n",
      "'NoneType' object has no attribute 'contents' Work id: 18962710\n",
      "'NoneType' object has no attribute 'contents' Work id: 18964225\n",
      "'NoneType' object has no attribute 'contents' Work id: 18964552\n",
      "'NoneType' object has no attribute 'contents' Work id: 20263555\n",
      "'NoneType' object has no attribute 'contents' Work id: 20265259\n",
      "'NoneType' object has no attribute 'contents' Work id: 20265871\n",
      "'NoneType' object has no attribute 'contents' Work id: 20266267\n",
      "'NoneType' object has no attribute 'contents' Work id: 20267104\n",
      "'NoneType' object has no attribute 'contents' Work id: 20269459\n",
      "'NoneType' object has no attribute 'contents' Work id: 20269747\n",
      "'NoneType' object has no attribute 'contents' Work id: 20269897\n",
      "'NoneType' object has no attribute 'contents' Work id: 20269903\n",
      "'NoneType' object has no attribute 'contents' Work id: 20270200\n",
      "'NoneType' object has no attribute 'contents' Work id: 20270287\n",
      "'NoneType' object has no attribute 'contents' Work id: 20271895\n",
      "'NoneType' object has no attribute 'contents' Work id: 20272504\n",
      "'NoneType' object has no attribute 'contents' Work id: 20273101\n",
      "'NoneType' object has no attribute 'contents' Work id: 20274523\n",
      "'NoneType' object has no attribute 'contents' Work id: 20274706\n",
      "'NoneType' object has no attribute 'contents' Work id: 20276986\n",
      "'NoneType' object has no attribute 'contents' Work id: 21261116\n",
      "'NoneType' object has no attribute 'contents' Work id: 21261392\n",
      "'NoneType' object has no attribute 'contents' Work id: 21262247\n",
      "'NoneType' object has no attribute 'contents' Work id: 21262409\n",
      "'NoneType' object has no attribute 'contents' Work id: 21263261\n",
      "'NoneType' object has no attribute 'contents' Work id: 21264641\n",
      "'NoneType' object has no attribute 'contents' Work id: 21264923\n",
      "'NoneType' object has no attribute 'contents' Work id: 22036375\n",
      "'NoneType' object has no attribute 'contents' Work id: 22038535\n",
      "'NoneType' object has no attribute 'contents' Work id: 22040185\n",
      "'NoneType' object has no attribute 'contents' Work id: 22040509\n",
      "'NoneType' object has no attribute 'contents' Work id: 22043365\n",
      "'NoneType' object has no attribute 'contents' Work id: 22053817\n",
      "'NoneType' object has no attribute 'contents' Work id: 22054822\n",
      "'NoneType' object has no attribute 'contents' Work id: 22055251\n",
      "'NoneType' object has no attribute 'contents' Work id: 22056592\n",
      "'NoneType' object has no attribute 'contents' Work id: 23640607\n",
      "'NoneType' object has no attribute 'contents' Work id: 23641915\n",
      "'NoneType' object has no attribute 'contents' Work id: 23652871\n",
      "'NoneType' object has no attribute 'contents' Work id: 23653258\n",
      "'NoneType' object has no attribute 'contents' Work id: 23661874\n",
      "'NoneType' object has no attribute 'contents' Work id: 23669614\n",
      "'NoneType' object has no attribute 'contents' Work id: 23670523\n",
      "'NoneType' object has no attribute 'contents' Work id: 23671666\n",
      "'NoneType' object has no attribute 'contents' Work id: 23672083\n",
      "'NoneType' object has no attribute 'contents' Work id: 24261025\n",
      "'NoneType' object has no attribute 'contents' Work id: 24261037\n",
      "'NoneType' object has no attribute 'contents' Work id: 24261298\n",
      "'NoneType' object has no attribute 'contents' Work id: 24261865\n",
      "'NoneType' object has no attribute 'contents' Work id: 24262246\n",
      "'NoneType' object has no attribute 'contents' Work id: 24262351\n",
      "'NoneType' object has no attribute 'contents' Work id: 24262588\n",
      "'NoneType' object has no attribute 'contents' Work id: 24408985\n",
      "'NoneType' object has no attribute 'contents' Work id: 24409237\n",
      "'NoneType' object has no attribute 'contents' Work id: 24409363\n",
      "'NoneType' object has no attribute 'contents' Work id: 24409459\n",
      "'NoneType' object has no attribute 'contents' Work id: 24409468\n",
      "'NoneType' object has no attribute 'contents' Work id: 24409654\n",
      "'NoneType' object has no attribute 'contents' Work id: 24409753\n",
      "'NoneType' object has no attribute 'contents' Work id: 24409786\n",
      "'NoneType' object has no attribute 'contents' Work id: 24409882\n",
      "'NoneType' object has no attribute 'contents' Work id: 24410467\n",
      "'NoneType' object has no attribute 'contents' Work id: 24410584\n",
      "'NoneType' object has no attribute 'contents' Work id: 24410944\n",
      "'NoneType' object has no attribute 'contents' Work id: 24411136\n",
      "'NoneType' object has no attribute 'contents' Work id: 24411184\n",
      "'NoneType' object has no attribute 'contents' Work id: 24655825\n",
      "'NoneType' object has no attribute 'contents' Work id: 24655933\n",
      "'NoneType' object has no attribute 'contents' Work id: 24656572\n",
      "'NoneType' object has no attribute 'contents' Work id: 24656629\n",
      "'NoneType' object has no attribute 'contents' Work id: 24656902\n",
      "'NoneType' object has no attribute 'contents' Work id: 24657052\n",
      "'NoneType' object has no attribute 'contents' Work id: 24657910\n",
      "'NoneType' object has no attribute 'contents' Work id: 24658921\n",
      "'NoneType' object has no attribute 'contents' Work id: 24659152\n",
      "'NoneType' object has no attribute 'contents' Work id: 24659362\n",
      "'NoneType' object has no attribute 'contents' Work id: 24659437\n",
      "'NoneType' object has no attribute 'contents' Work id: 24659500\n",
      "'NoneType' object has no attribute 'contents' Work id: 24659569\n",
      "'NoneType' object has no attribute 'contents' Work id: 24659683\n",
      "'NoneType' object has no attribute 'contents' Work id: 24659716\n",
      "'NoneType' object has no attribute 'contents' Work id: 24660106\n",
      "'NoneType' object has no attribute 'contents' Work id: 24887239\n",
      "'NoneType' object has no attribute 'contents' Work id: 24913171\n",
      "'NoneType' object has no attribute 'contents' Work id: 24913939\n",
      "'NoneType' object has no attribute 'contents' Work id: 24914245\n",
      "'NoneType' object has no attribute 'contents' Work id: 24914875\n",
      "'NoneType' object has no attribute 'contents' Work id: 24915022\n",
      "'NoneType' object has no attribute 'contents' Work id: 24915037\n",
      "'NoneType' object has no attribute 'contents' Work id: 24915319\n",
      "'NoneType' object has no attribute 'contents' Work id: 24915439\n",
      "'NoneType' object has no attribute 'contents' Work id: 24915697\n",
      "'NoneType' object has no attribute 'contents' Work id: 24916408\n",
      "'NoneType' object has no attribute 'contents' Work id: 24916588\n",
      "'NoneType' object has no attribute 'contents' Work id: 24916831\n",
      "'NoneType' object has no attribute 'contents' Work id: 24917077\n",
      "'NoneType' object has no attribute 'contents' Work id: 25087876\n",
      "'NoneType' object has no attribute 'contents' Work id: 25088404\n",
      "'NoneType' object has no attribute 'contents' Work id: 25088479\n",
      "'NoneType' object has no attribute 'contents' Work id: 25089298\n",
      "'NoneType' object has no attribute 'contents' Work id: 25089319\n",
      "'NoneType' object has no attribute 'contents' Work id: 25089475\n",
      "'NoneType' object has no attribute 'contents' Work id: 25089532\n",
      "'NoneType' object has no attribute 'contents' Work id: 25089979\n",
      "'NoneType' object has no attribute 'contents' Work id: 25090225\n",
      "'NoneType' object has no attribute 'contents' Work id: 25090381\n",
      "'NoneType' object has no attribute 'contents' Work id: 25090510\n",
      "'NoneType' object has no attribute 'contents' Work id: 25091269\n",
      "'NoneType' object has no attribute 'contents' Work id: 25091473\n",
      "'NoneType' object has no attribute 'contents' Work id: 25092586\n",
      "'NoneType' object has no attribute 'contents' Work id: 25093195\n",
      "'NoneType' object has no attribute 'contents' Work id: 25093471\n",
      "'NoneType' object has no attribute 'contents' Work id: 25455487\n",
      "'NoneType' object has no attribute 'contents' Work id: 25455547\n",
      "'NoneType' object has no attribute 'contents' Work id: 25457149\n",
      "'NoneType' object has no attribute 'contents' Work id: 25457473\n"
     ]
    },
    {
     "name": "stdout",
     "output_type": "stream",
     "text": [
      "'NoneType' object has no attribute 'contents' Work id: 25457860\n",
      "'NoneType' object has no attribute 'contents' Work id: 25457887\n",
      "Work could not be loaded.\n",
      "('Connection aborted.', TimeoutError(10060, 'A connection attempt failed because the connected party did not properly respond after a period of time, or established connection failed because connected host has failed to respond', None, 10060, None)) Work id: 25458037\n",
      "'NoneType' object has no attribute 'contents' Work id: 25458067\n",
      "'NoneType' object has no attribute 'contents' Work id: 25458172\n",
      "'NoneType' object has no attribute 'contents' Work id: 25458220\n",
      "'NoneType' object has no attribute 'contents' Work id: 25458292\n",
      "'NoneType' object has no attribute 'contents' Work id: 25458493\n",
      "'NoneType' object has no attribute 'contents' Work id: 25458754\n",
      "'NoneType' object has no attribute 'contents' Work id: 25459480\n",
      "'NoneType' object has no attribute 'contents' Work id: 25459594\n",
      "'NoneType' object has no attribute 'contents' Work id: 25461211\n",
      "'NoneType' object has no attribute 'contents' Work id: 25461952\n",
      "'NoneType' object has no attribute 'contents' Work id: 25462465\n",
      "'NoneType' object has no attribute 'contents' Work id: 25462636\n",
      "'NoneType' object has no attribute 'contents' Work id: 25462726\n",
      "'NoneType' object has no attribute 'contents' Work id: 25878202\n",
      "'NoneType' object has no attribute 'contents' Work id: 25878535\n",
      "'NoneType' object has no attribute 'contents' Work id: 25878850\n",
      "'NoneType' object has no attribute 'contents' Work id: 25879936\n",
      "'NoneType' object has no attribute 'contents' Work id: 25880884\n",
      "'NoneType' object has no attribute 'contents' Work id: 25881799\n",
      "'NoneType' object has no attribute 'contents' Work id: 25881871\n",
      "'NoneType' object has no attribute 'contents' Work id: 25881901\n",
      "'NoneType' object has no attribute 'contents' Work id: 25881907\n",
      "'NoneType' object has no attribute 'contents' Work id: 25881913\n",
      "'NoneType' object has no attribute 'contents' Work id: 25883158\n",
      "'NoneType' object has no attribute 'contents' Work id: 25883779\n",
      "'NoneType' object has no attribute 'contents' Work id: 25884157\n",
      "'NoneType' object has no attribute 'contents' Work id: 25884484\n",
      "'NoneType' object has no attribute 'contents' Work id: 25884886\n",
      "'NoneType' object has no attribute 'contents' Work id: 25885558\n",
      "'NoneType' object has no attribute 'contents' Work id: 25887133\n",
      "'NoneType' object has no attribute 'contents' Work id: 25887397\n",
      "'NoneType' object has no attribute 'contents' Work id: 26258437\n",
      "'NoneType' object has no attribute 'contents' Work id: 26258698\n",
      "'NoneType' object has no attribute 'contents' Work id: 26259394\n",
      "'NoneType' object has no attribute 'contents' Work id: 26260606\n",
      "'NoneType' object has no attribute 'contents' Work id: 26261308\n",
      "'NoneType' object has no attribute 'contents' Work id: 26261656\n",
      "'NoneType' object has no attribute 'contents' Work id: 26261755\n",
      "'NoneType' object has no attribute 'contents' Work id: 26262151\n",
      "'NoneType' object has no attribute 'contents' Work id: 26262622\n",
      "'NoneType' object has no attribute 'contents' Work id: 26262742\n",
      "'NoneType' object has no attribute 'contents' Work id: 26264269\n",
      "'NoneType' object has no attribute 'contents' Work id: 26264311\n",
      "'NoneType' object has no attribute 'contents' Work id: 26265769\n",
      "'NoneType' object has no attribute 'contents' Work id: 26265799\n",
      "'NoneType' object has no attribute 'contents' Work id: 26265814\n",
      "'NoneType' object has no attribute 'contents' Work id: 26266558\n",
      "'NoneType' object has no attribute 'contents' Work id: 26267011\n",
      "'NoneType' object has no attribute 'contents' Work id: 27928828\n",
      "'NoneType' object has no attribute 'contents' Work id: 27929374\n",
      "'NoneType' object has no attribute 'contents' Work id: 27929716\n",
      "'NoneType' object has no attribute 'contents' Work id: 27930598\n",
      "'NoneType' object has no attribute 'contents' Work id: 27934909\n",
      "'NoneType' object has no attribute 'contents' Work id: 27937897\n",
      "'NoneType' object has no attribute 'contents' Work id: 27938967\n",
      "'NoneType' object has no attribute 'contents' Work id: 27939092\n",
      "'NoneType' object has no attribute 'contents' Work id: 27940847\n",
      "'NoneType' object has no attribute 'contents' Work id: 27941102\n",
      "'NoneType' object has no attribute 'contents' Work id: 27941864\n",
      "'NoneType' object has no attribute 'contents' Work id: 27941984\n",
      "'NoneType' object has no attribute 'contents' Work id: 27942851\n",
      "'NoneType' object has no attribute 'contents' Work id: 28553250\n",
      "'NoneType' object has no attribute 'contents' Work id: 28553403\n",
      "'NoneType' object has no attribute 'contents' Work id: 28554219\n",
      "'NoneType' object has no attribute 'contents' Work id: 28554594\n",
      "'NoneType' object has no attribute 'contents' Work id: 28554852\n",
      "'NoneType' object has no attribute 'contents' Work id: 28557438\n",
      "'NoneType' object has no attribute 'contents' Work id: 28560150\n",
      "'NoneType' object has no attribute 'contents' Work id: 28560339\n",
      "'NoneType' object has no attribute 'contents' Work id: 28564104\n",
      "'NoneType' object has no attribute 'contents' Work id: 28564128\n",
      "'NoneType' object has no attribute 'contents' Work id: 28564194\n",
      "'NoneType' object has no attribute 'contents' Work id: 28566801\n",
      "'NoneType' object has no attribute 'contents' Work id: 28567947\n",
      "'NoneType' object has no attribute 'contents' Work id: 28569582\n",
      "'NoneType' object has no attribute 'contents' Work id: 28570698\n",
      "'NoneType' object has no attribute 'contents' Work id: 28575036\n",
      "\n"
     ]
    }
   ],
   "source": [
    "loaded = [str(x.id) for x in session.query(Work).all()]\n",
    "with open('errors.txt', 'w') as ferr:\n",
    "    for page in tqdm(range(1, pages+1)):\n",
    "        base_qs['page'][0] = str(page)\n",
    "        with ratelimiter:\n",
    "            resp=requests.get(base_fandom.format(fandom=shera), params=base_qs)\n",
    "        soup = BeautifulSoup(resp.content)\n",
    "        works_on_page = [x['href'].split('/')[2] for x in soup.find_all('a', {'href':re.compile('^/works/\\d+$')})]\n",
    "#         print(len(works_on_page))\n",
    "        for work in works_on_page:\n",
    "            if work in loaded:\n",
    "                continue\n",
    "            try:\n",
    "                process_work(work)\n",
    "            except Exception as e:\n",
    "                print(e, f\"Work id: {work}\")\n",
    "                ferr.write(work+'\\n')\n",
    "                session.rollback()"
   ]
  },
  {
   "cell_type": "code",
   "execution_count": 91,
   "metadata": {
    "ExecuteTime": {
     "end_time": "2021-01-19T04:57:05.712103Z",
     "start_time": "2021-01-19T04:57:05.697146Z"
    }
   },
   "outputs": [
    {
     "data": {
      "text/plain": [
       "1946"
      ]
     },
     "execution_count": 91,
     "metadata": {},
     "output_type": "execute_result"
    }
   ],
   "source": [
    "session.query(Work).count()"
   ]
  },
  {
   "cell_type": "code",
   "execution_count": 92,
   "metadata": {
    "ExecuteTime": {
     "end_time": "2021-01-19T05:01:16.686381Z",
     "start_time": "2021-01-19T05:01:16.648575Z"
    }
   },
   "outputs": [
    {
     "data": {
      "text/plain": [
       "[User(id='Somariel'),\n",
       " User(id='Catxdora'),\n",
       " User(id='Venn364'),\n",
       " User(id='Aries_Tenoh'),\n",
       " User(id='KnightsOfRayx'),\n",
       " User(id='ShadowAce29'),\n",
       " User(id='Ai220'),\n",
       " User(id='marivso'),\n",
       " User(id='Little_Chickadee'),\n",
       " User(id='Simpson17866'),\n",
       " User(id='Zaya_Ayame'),\n",
       " User(id='SeeASweetSmile'),\n",
       " User(id='little_red_panda'),\n",
       " User(id='Inopportunist'),\n",
       " User(id='Chezitcat'),\n",
       " User(id='Kenneday247'),\n",
       " User(id='Bluemidnight626'),\n",
       " User(id='Phoenix2210'),\n",
       " User(id='Southernprincess1776'),\n",
       " User(id='Nolarizendtari'),\n",
       " User(id='sonishko'),\n",
       " User(id='E2Shock'),\n",
       " User(id='WhentheWorldStoppedSpinning'),\n",
       " User(id='for_the_honor_of_grayskull_I_am_katniss'),\n",
       " User(id='Stephanie_the_Bi')]"
      ]
     },
     "execution_count": 92,
     "metadata": {},
     "output_type": "execute_result"
    }
   ],
   "source": [
    "session.query(Work).all()[-1].kudos_left_by"
   ]
  }
 ],
 "metadata": {
  "kernelspec": {
   "display_name": "Python 3",
   "language": "python",
   "name": "python3"
  },
  "language_info": {
   "codemirror_mode": {
    "name": "ipython",
    "version": 3
   },
   "file_extension": ".py",
   "mimetype": "text/x-python",
   "name": "python",
   "nbconvert_exporter": "python",
   "pygments_lexer": "ipython3",
   "version": "3.8.1"
  }
 },
 "nbformat": 4,
 "nbformat_minor": 2
}
