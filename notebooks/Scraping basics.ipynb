{
 "cells": [
  {
   "cell_type": "code",
   "execution_count": 1,
   "metadata": {
    "ExecuteTime": {
     "end_time": "2021-04-04T20:01:25.464912Z",
     "start_time": "2021-04-04T20:01:25.008920Z"
    }
   },
   "outputs": [],
   "source": [
    "import requests\n",
    "from bs4 import BeautifulSoup\n",
    "import sqlite3\n",
    "import os\n",
    "import urllib\n",
    "from retry import retry\n",
    "import time\n",
    "import pdb\n",
    "from ratelimiter import RateLimiter\n",
    "from tqdm.notebook import tqdm as tqdm"
   ]
  },
  {
   "cell_type": "code",
   "execution_count": 2,
   "metadata": {
    "ExecuteTime": {
     "end_time": "2020-12-15T06:12:12.333070Z",
     "start_time": "2020-12-15T06:12:12.329115Z"
    }
   },
   "outputs": [],
   "source": [
    "class RateLimitException(Exception):\n",
    "    pass"
   ]
  },
  {
   "cell_type": "code",
   "execution_count": 2,
   "metadata": {
    "ExecuteTime": {
     "end_time": "2021-04-04T20:02:53.400848Z",
     "start_time": "2021-04-04T20:02:53.382772Z"
    }
   },
   "outputs": [],
   "source": [
    "base_url = 'https://archiveofourown.org/'\n",
    "base_fandom = 'https://archiveofourown.org/tags/{fandom}/works'\n",
    "shera = 'She-Ra%20and%20the%20Princesses%20of%20Power%20(2018)'\n",
    "base_qs = {'utf8': ['✓'],\n",
    " 'commit': ['Sort and Filter'],\n",
    " 'work_search[sort_column]': ['created_at'],\n",
    " 'work_search[query]': ['sort:>posted'],\n",
    " 'page': ['1']}\n",
    "pages = 591"
   ]
  },
  {
   "cell_type": "code",
   "execution_count": 12,
   "metadata": {
    "ExecuteTime": {
     "end_time": "2021-04-04T20:13:19.173665Z",
     "start_time": "2021-04-04T20:13:19.157397Z"
    }
   },
   "outputs": [],
   "source": [
    "ratelimiter = RateLimiter(max_calls=10, period=35)"
   ]
  },
  {
   "cell_type": "code",
   "execution_count": 3,
   "metadata": {
    "ExecuteTime": {
     "end_time": "2021-04-04T20:03:06.771610Z",
     "start_time": "2021-04-04T20:03:06.753670Z"
    }
   },
   "outputs": [],
   "source": [
    "def login(s):\n",
    "    resp = s.get(base_url)\n",
    "    soup = BeautifulSoup(resp.content)\n",
    "    loginform = soup.find('div', id='small_login')\n",
    "    form = {x['name'] : x['value'] for x in loginform.find_all('input', type='hidden')}\n",
    "    form['user[password]'] = 'x'\n",
    "    form['user[login]'] = 'McRibbedForHerPleasure'\n",
    "    form['commit'] = 'Log In'\n",
    "    resp = s.post('https://archiveofourown.org/users/login', data=form)\n",
    "    return resp\n",
    "\n",
    "def rd(session, delay=2):\n",
    "    time.sleep(delay)\n",
    "    return session"
   ]
  },
  {
   "cell_type": "code",
   "execution_count": 5,
   "metadata": {
    "ExecuteTime": {
     "end_time": "2021-04-04T20:05:51.762573Z",
     "start_time": "2021-04-04T20:05:45.951545Z"
    }
   },
   "outputs": [
    {
     "data": {
      "text/plain": [
       "<Response [200]>"
      ]
     },
     "execution_count": 5,
     "metadata": {},
     "output_type": "execute_result"
    }
   ],
   "source": [
    "s = requests.session()"
   ]
  },
  {
   "cell_type": "code",
   "execution_count": 9,
   "metadata": {
    "ExecuteTime": {
     "end_time": "2021-04-04T20:07:51.125046Z",
     "start_time": "2021-04-04T20:07:51.074244Z"
    }
   },
   "outputs": [],
   "source": [
    "mkdir data\\pages"
   ]
  },
  {
   "cell_type": "code",
   "execution_count": 17,
   "metadata": {
    "ExecuteTime": {
     "end_time": "2021-04-04T22:05:48.042292Z",
     "start_time": "2021-04-04T22:05:45.397616Z"
    }
   },
   "outputs": [
    {
     "data": {
      "application/vnd.jupyter.widget-view+json": {
       "model_id": "ba5282ad51e44a16bd3010ac0295dfef",
       "version_major": 2,
       "version_minor": 0
      },
      "text/plain": [
       "HBox(children=(HTML(value=''), FloatProgress(value=0.0, max=1.0), HTML(value='')))"
      ]
     },
     "metadata": {},
     "output_type": "display_data"
    },
    {
     "name": "stdout",
     "output_type": "stream",
     "text": [
      "\n"
     ]
    }
   ],
   "source": [
    "for page in tqdm(range(1, pages+1)):\n",
    "    base_qs['page'] = [str(page)]\n",
    "    with ratelimiter:\n",
    "        resp = rd(s).get(base_fandom.format(fandom=shera), params=base_qs)\n",
    "    if resp.status_code != 200:\n",
    "        print(f'Bad status code: {resp.status_code} at page {page}')\n",
    "        print(resp.content)\n",
    "        break\n",
    "    with open(f'./data/pages/shera-{page}.html', 'wb') as fout:\n",
    "        fout.write(resp.content)"
   ]
  },
  {
   "cell_type": "code",
   "execution_count": 91,
   "metadata": {
    "ExecuteTime": {
     "end_time": "2020-12-16T23:20:08.149106Z",
     "start_time": "2020-12-16T23:20:08.131550Z"
    }
   },
   "outputs": [],
   "source": [
    "with open('user2.txt', 'w') as fout:\n",
    "    for f in user_list:\n",
    "        fout.write(f)\n",
    "        fout.write('\\n')"
   ]
  },
  {
   "cell_type": "code",
   "execution_count": 74,
   "metadata": {
    "ExecuteTime": {
     "end_time": "2020-12-16T22:25:00.266365Z",
     "start_time": "2020-12-16T22:25:00.227828Z"
    }
   },
   "outputs": [],
   "source": [
    "with open('user2.txt', 'r') as fin:\n",
    "    user_list = [x.strip() for x in fin]"
   ]
  },
  {
   "cell_type": "code",
   "execution_count": 8,
   "metadata": {
    "ExecuteTime": {
     "end_time": "2020-12-15T06:12:34.131398Z",
     "start_time": "2020-12-15T06:12:34.125377Z"
    }
   },
   "outputs": [],
   "source": [
    "def process_page(soup):    \n",
    "    bookmarks=soup.find_all('li', class_='bookmark blurb group')\n",
    "    bookmark_fics = []\n",
    "    for x in bookmarks:\n",
    "        if not (x.h4 and x.h4.a):\n",
    "            continue\n",
    "        bookmark_fics.append(x.h4.a['href'].split('/')[2])\n",
    "    return bookmark_fics\n",
    "\n",
    "def get_max_pages(soup):\n",
    "    pages =soup.find('ol', role='navigation')\n",
    "    if pages:\n",
    "        max_pages = int(pages.find_all('li')[-2].text)\n",
    "        return max_pages\n",
    "    return 1"
   ]
  },
  {
   "cell_type": "code",
   "execution_count": 110,
   "metadata": {
    "ExecuteTime": {
     "end_time": "2020-12-19T22:32:19.700493Z",
     "start_time": "2020-12-19T22:32:19.672825Z"
    }
   },
   "outputs": [],
   "source": [
    "@retry(exceptions=RateLimitException, tries=4, delay=150, backoff=0, jitter=(0, 20))\n",
    "def get_bookmarks_user(user):\n",
    "    bm_url = base_url+'users/'+user+'/bookmarks'\n",
    "    resp = rd(s).get(bm_url)\n",
    "    if resp.status_code==429:\n",
    "        raise RateLimitException()\n",
    "    elif resp.status_code == 404:\n",
    "        return []\n",
    "    elif resp.status_code != 200:\n",
    "        raise Exception(f\"Bad status code: {resp.status_code}\")\n",
    "    soup = BeautifulSoup(resp.content)\n",
    "    pages = get_max_pages(soup)\n",
    "    hh.update({'text/plain': f\"PAGE {0}/{pages}\"}, raw=True)\n",
    "#     print(f\"Getting {pages} pages for {user}\")\n",
    "    ret = [(user, x) for x in process_page(soup)]\n",
    "    if pages>1:\n",
    "        for i in range(2, pages+1):\n",
    "            ret += get_bookmarks_inner(user, bm_url, i, pages)\n",
    "\n",
    "    return ret\n",
    "\n",
    "@retry(exceptions=RateLimitException, tries=3, delay=300, backoff=1, jitter=(0, 20))\n",
    "def get_bookmarks_inner(user, bm_url, page, pages=0):\n",
    "    hh.update({'text/plain': f\"PAGE {page}/{pages}\"}, raw=True)\n",
    "    resp = rd(s).get(bm_url, data={'page':page})\n",
    "    if resp.status_code == 429:\n",
    "        raise RateLimitException()\n",
    "    if resp.status_code != 200:\n",
    "        pdb.set_trace()\n",
    "    return [(user, x) for x in process_page(BeautifulSoup(resp.content))]\n"
   ]
  },
  {
   "cell_type": "code",
   "execution_count": 90,
   "metadata": {
    "ExecuteTime": {
     "end_time": "2020-12-16T23:20:04.551119Z",
     "start_time": "2020-12-16T23:20:04.542415Z"
    }
   },
   "outputs": [
    {
     "data": {
      "text/plain": [
       "1160"
      ]
     },
     "execution_count": 90,
     "metadata": {},
     "output_type": "execute_result"
    }
   ],
   "source": [
    "len(user_list)"
   ]
  },
  {
   "cell_type": "code",
   "execution_count": 79,
   "metadata": {
    "ExecuteTime": {
     "end_time": "2020-12-16T23:14:06.564098Z",
     "start_time": "2020-12-16T23:14:06.558148Z"
    }
   },
   "outputs": [],
   "source": [
    "bookmarks_output = []\n",
    "i_end=0"
   ]
  },
  {
   "cell_type": "code",
   "execution_count": 103,
   "metadata": {
    "ExecuteTime": {
     "end_time": "2020-12-16T23:44:10.263008Z",
     "start_time": "2020-12-16T23:44:10.256978Z"
    }
   },
   "outputs": [
    {
     "data": {
      "text/plain": [
       " 1159: mytholora"
      ]
     },
     "metadata": {},
     "output_type": "display_data"
    },
    {
     "data": {
      "text/plain": [
       " 1159: mytholora"
      ]
     },
     "metadata": {},
     "output_type": "display_data"
    }
   ],
   "source": [
    "h = display(display_id='my-display')\n",
    "h.display(None)"
   ]
  },
  {
   "cell_type": "code",
   "execution_count": 104,
   "metadata": {
    "ExecuteTime": {
     "end_time": "2020-12-16T23:44:11.604851Z",
     "start_time": "2020-12-16T23:44:11.599851Z"
    }
   },
   "outputs": [
    {
     "data": {
      "text/plain": [
       "PAGE 27/27"
      ]
     },
     "metadata": {},
     "output_type": "display_data"
    },
    {
     "data": {
      "text/plain": [
       "PAGE 27/27"
      ]
     },
     "metadata": {},
     "output_type": "display_data"
    }
   ],
   "source": [
    "hh = display(display_id='my-display2')\n",
    "hh.display(None)"
   ]
  },
  {
   "cell_type": "code",
   "execution_count": 111,
   "metadata": {
    "ExecuteTime": {
     "end_time": "2020-12-20T02:40:24.927414Z",
     "start_time": "2020-12-19T22:32:21.881107Z"
    }
   },
   "outputs": [
    {
     "data": {
      "application/vnd.jupyter.widget-view+json": {
       "model_id": "8d5c43246bff4429951fb42f7fc3a6d3",
       "version_major": 2,
       "version_minor": 0
      },
      "text/plain": [
       "HBox(children=(HTML(value='users'), FloatProgress(value=0.0, max=325.0), HTML(value='')))"
      ]
     },
     "metadata": {},
     "output_type": "display_data"
    },
    {
     "name": "stdout",
     "output_type": "stream",
     "text": [
      "\n"
     ]
    }
   ],
   "source": [
    "exclude = {x[0] for x in bookmarks_output}\n",
    "for i in tqdm(range(835, len(user_list)), desc='users'):\n",
    "    user = user_list[i]\n",
    "    if user in exclude:\n",
    "        continue\n",
    "    try:\n",
    "#         print(\"\\r\", f\"Processing {i}:{user}\", end='')\n",
    "        h.update({'text/plain': f\"{i:5}: {user}\"}, raw=True)\n",
    "        bookmarks_output += get_bookmarks_user(user)\n",
    "        i_end = i\n",
    "    except Exception as e:\n",
    "        print(i_end)\n",
    "        print(user)\n",
    "        raise(e)"
   ]
  },
  {
   "cell_type": "code",
   "execution_count": 93,
   "metadata": {
    "ExecuteTime": {
     "end_time": "2020-12-16T23:38:37.950323Z",
     "start_time": "2020-12-16T23:38:37.945340Z"
    }
   },
   "outputs": [
    {
     "data": {
      "text/plain": [
       "105"
      ]
     },
     "execution_count": 93,
     "metadata": {},
     "output_type": "execute_result"
    }
   ],
   "source": [
    "i_end"
   ]
  },
  {
   "cell_type": "code",
   "execution_count": 71,
   "metadata": {
    "ExecuteTime": {
     "end_time": "2020-12-16T22:19:42.169505Z",
     "start_time": "2020-12-16T22:19:41.312065Z"
    }
   },
   "outputs": [],
   "source": [
    "with open('output_1.txt', 'w') as fout:\n",
    "    fout.writelines([','.join(x) for x in bookmarks_output])"
   ]
  },
  {
   "cell_type": "code",
   "execution_count": 27,
   "metadata": {
    "ExecuteTime": {
     "end_time": "2020-12-16T21:11:28.205064Z",
     "start_time": "2020-12-16T21:11:28.195821Z"
    }
   },
   "outputs": [
    {
     "data": {
      "text/plain": [
       "384523"
      ]
     },
     "execution_count": 27,
     "metadata": {},
     "output_type": "execute_result"
    }
   ],
   "source": [
    "len(bookmarks_output)"
   ]
  },
  {
   "cell_type": "code",
   "execution_count": 112,
   "metadata": {
    "ExecuteTime": {
     "end_time": "2020-12-20T06:04:38.763333Z",
     "start_time": "2020-12-20T06:04:38.760343Z"
    }
   },
   "outputs": [],
   "source": [
    "import pandas as pd"
   ]
  },
  {
   "cell_type": "code",
   "execution_count": 113,
   "metadata": {
    "ExecuteTime": {
     "end_time": "2020-12-20T06:04:39.944208Z",
     "start_time": "2020-12-20T06:04:39.839647Z"
    }
   },
   "outputs": [],
   "source": [
    "df = pd.DataFrame(bookmarks_output, columns=['user', 'fic'])"
   ]
  },
  {
   "cell_type": "code",
   "execution_count": 114,
   "metadata": {
    "ExecuteTime": {
     "end_time": "2020-12-20T06:04:43.470838Z",
     "start_time": "2020-12-20T06:04:43.096714Z"
    }
   },
   "outputs": [],
   "source": [
    "df.to_csv('data2.csv', index=False, header=False)"
   ]
  },
  {
   "cell_type": "code",
   "execution_count": 115,
   "metadata": {
    "ExecuteTime": {
     "end_time": "2020-12-20T06:04:49.156235Z",
     "start_time": "2020-12-20T06:04:49.151229Z"
    }
   },
   "outputs": [
    {
     "data": {
      "text/plain": [
       "295236"
      ]
     },
     "execution_count": 115,
     "metadata": {},
     "output_type": "execute_result"
    }
   ],
   "source": [
    "len(df)"
   ]
  },
  {
   "cell_type": "code",
   "execution_count": 87,
   "metadata": {
    "ExecuteTime": {
     "end_time": "2020-12-16T23:16:15.806497Z",
     "start_time": "2020-12-16T23:15:39.567263Z"
    }
   },
   "outputs": [
    {
     "data": {
      "text/plain": [
       "464"
      ]
     },
     "execution_count": 87,
     "metadata": {},
     "output_type": "execute_result"
    }
   ],
   "source": [
    "len([x for x in user_list if x not in df['user'].tolist()])"
   ]
  },
  {
   "cell_type": "code",
   "execution_count": 86,
   "metadata": {
    "ExecuteTime": {
     "end_time": "2020-12-16T23:15:31.519262Z",
     "start_time": "2020-12-16T23:15:31.505824Z"
    }
   },
   "outputs": [
    {
     "data": {
      "text/plain": [
       "0         ChloeTheRainbowQueen\n",
       "1         ChloeTheRainbowQueen\n",
       "2         ChloeTheRainbowQueen\n",
       "3         ChloeTheRainbowQueen\n",
       "4         ChloeTheRainbowQueen\n",
       "                  ...         \n",
       "384518            Aliceforever\n",
       "384519            Aliceforever\n",
       "384520            Aliceforever\n",
       "384521            Aliceforever\n",
       "384522            Aliceforever\n",
       "Name: user, Length: 384523, dtype: object"
      ]
     },
     "execution_count": 86,
     "metadata": {},
     "output_type": "execute_result"
    }
   ],
   "source": [
    "df['user']"
   ]
  },
  {
   "cell_type": "code",
   "execution_count": 42,
   "metadata": {
    "ExecuteTime": {
     "end_time": "2020-12-16T21:16:06.803276Z",
     "start_time": "2020-12-16T21:16:06.631445Z"
    }
   },
   "outputs": [
    {
     "data": {
      "text/html": [
       "<div>\n",
       "<style scoped>\n",
       "    .dataframe tbody tr th:only-of-type {\n",
       "        vertical-align: middle;\n",
       "    }\n",
       "\n",
       "    .dataframe tbody tr th {\n",
       "        vertical-align: top;\n",
       "    }\n",
       "\n",
       "    .dataframe thead th {\n",
       "        text-align: right;\n",
       "    }\n",
       "</style>\n",
       "<table border=\"1\" class=\"dataframe\">\n",
       "  <thead>\n",
       "    <tr style=\"text-align: right;\">\n",
       "      <th></th>\n",
       "      <th>fic</th>\n",
       "    </tr>\n",
       "    <tr>\n",
       "      <th>user</th>\n",
       "      <th></th>\n",
       "    </tr>\n",
       "  </thead>\n",
       "  <tbody>\n",
       "    <tr>\n",
       "      <th>100kr</th>\n",
       "      <td>4</td>\n",
       "    </tr>\n",
       "    <tr>\n",
       "      <th>14th_day_9th_season</th>\n",
       "      <td>46</td>\n",
       "    </tr>\n",
       "    <tr>\n",
       "      <th>1FantasticBeastThatYouCantFind</th>\n",
       "      <td>82</td>\n",
       "    </tr>\n",
       "    <tr>\n",
       "      <th>1clexa_lover1</th>\n",
       "      <td>65</td>\n",
       "    </tr>\n",
       "    <tr>\n",
       "      <th>3ves</th>\n",
       "      <td>284</td>\n",
       "    </tr>\n",
       "    <tr>\n",
       "      <th>...</th>\n",
       "      <td>...</td>\n",
       "    </tr>\n",
       "    <tr>\n",
       "      <th>younggod17</th>\n",
       "      <td>93</td>\n",
       "    </tr>\n",
       "    <tr>\n",
       "      <th>yuka_hama</th>\n",
       "      <td>152</td>\n",
       "    </tr>\n",
       "    <tr>\n",
       "      <th>yuxfum</th>\n",
       "      <td>1386</td>\n",
       "    </tr>\n",
       "    <tr>\n",
       "      <th>yvesoulslut</th>\n",
       "      <td>4</td>\n",
       "    </tr>\n",
       "    <tr>\n",
       "      <th>z_delos</th>\n",
       "      <td>5</td>\n",
       "    </tr>\n",
       "  </tbody>\n",
       "</table>\n",
       "<p>1171 rows × 1 columns</p>\n",
       "</div>"
      ],
      "text/plain": [
       "                                 fic\n",
       "user                                \n",
       "100kr                              4\n",
       "14th_day_9th_season               46\n",
       "1FantasticBeastThatYouCantFind    82\n",
       "1clexa_lover1                     65\n",
       "3ves                             284\n",
       "...                              ...\n",
       "younggod17                        93\n",
       "yuka_hama                        152\n",
       "yuxfum                          1386\n",
       "yvesoulslut                        4\n",
       "z_delos                            5\n",
       "\n",
       "[1171 rows x 1 columns]"
      ]
     },
     "execution_count": 42,
     "metadata": {},
     "output_type": "execute_result"
    }
   ],
   "source": [
    "df.groupby('user').count()"
   ]
  },
  {
   "cell_type": "code",
   "execution_count": 46,
   "metadata": {
    "ExecuteTime": {
     "end_time": "2020-12-16T21:16:46.628039Z",
     "start_time": "2020-12-16T21:16:46.606401Z"
    }
   },
   "outputs": [
    {
     "data": {
      "text/html": [
       "<div>\n",
       "<style scoped>\n",
       "    .dataframe tbody tr th:only-of-type {\n",
       "        vertical-align: middle;\n",
       "    }\n",
       "\n",
       "    .dataframe tbody tr th {\n",
       "        vertical-align: top;\n",
       "    }\n",
       "\n",
       "    .dataframe thead th {\n",
       "        text-align: right;\n",
       "    }\n",
       "</style>\n",
       "<table border=\"1\" class=\"dataframe\">\n",
       "  <thead>\n",
       "    <tr style=\"text-align: right;\">\n",
       "      <th></th>\n",
       "      <th>fic</th>\n",
       "    </tr>\n",
       "    <tr>\n",
       "      <th>user</th>\n",
       "      <th></th>\n",
       "    </tr>\n",
       "  </thead>\n",
       "  <tbody>\n",
       "    <tr>\n",
       "      <th>dykeologie</th>\n",
       "      <td>1</td>\n",
       "    </tr>\n",
       "    <tr>\n",
       "      <th>emelinereads</th>\n",
       "      <td>1</td>\n",
       "    </tr>\n",
       "    <tr>\n",
       "      <th>Pupperdowner</th>\n",
       "      <td>1</td>\n",
       "    </tr>\n",
       "    <tr>\n",
       "      <th>Anareta</th>\n",
       "      <td>1</td>\n",
       "    </tr>\n",
       "    <tr>\n",
       "      <th>cmdrmander</th>\n",
       "      <td>1</td>\n",
       "    </tr>\n",
       "    <tr>\n",
       "      <th>...</th>\n",
       "      <td>...</td>\n",
       "    </tr>\n",
       "    <tr>\n",
       "      <th>AceMoppet</th>\n",
       "      <td>8211</td>\n",
       "    </tr>\n",
       "    <tr>\n",
       "      <th>Law1ess</th>\n",
       "      <td>9132</td>\n",
       "    </tr>\n",
       "    <tr>\n",
       "      <th>MechanicZero</th>\n",
       "      <td>10067</td>\n",
       "    </tr>\n",
       "    <tr>\n",
       "      <th>Musleema24</th>\n",
       "      <td>11335</td>\n",
       "    </tr>\n",
       "    <tr>\n",
       "      <th>Commandr</th>\n",
       "      <td>39184</td>\n",
       "    </tr>\n",
       "  </tbody>\n",
       "</table>\n",
       "<p>1171 rows × 1 columns</p>\n",
       "</div>"
      ],
      "text/plain": [
       "                fic\n",
       "user               \n",
       "dykeologie        1\n",
       "emelinereads      1\n",
       "Pupperdowner      1\n",
       "Anareta           1\n",
       "cmdrmander        1\n",
       "...             ...\n",
       "AceMoppet      8211\n",
       "Law1ess        9132\n",
       "MechanicZero  10067\n",
       "Musleema24    11335\n",
       "Commandr      39184\n",
       "\n",
       "[1171 rows x 1 columns]"
      ]
     },
     "execution_count": 46,
     "metadata": {},
     "output_type": "execute_result"
    }
   ],
   "source": [
    "res.sort_values('fic')"
   ]
  },
  {
   "cell_type": "code",
   "execution_count": 56,
   "metadata": {
    "ExecuteTime": {
     "end_time": "2020-12-16T21:18:33.492254Z",
     "start_time": "2020-12-16T21:18:33.487088Z"
    }
   },
   "outputs": [],
   "source": [
    "import numpy as np\n",
    "import matplotlib.pyplot as plt"
   ]
  },
  {
   "cell_type": "code",
   "execution_count": 60,
   "metadata": {
    "ExecuteTime": {
     "end_time": "2020-12-16T21:20:17.091929Z",
     "start_time": "2020-12-16T21:20:17.069829Z"
    }
   },
   "outputs": [
    {
     "ename": "AttributeError",
     "evalue": "module 'matplotlib.pyplot' has no attribute 'histogram'",
     "output_type": "error",
     "traceback": [
      "\u001b[1;31m---------------------------------------------------------------------------\u001b[0m",
      "\u001b[1;31mAttributeError\u001b[0m                            Traceback (most recent call last)",
      "\u001b[1;32m<ipython-input-60-23f23ec56f0e>\u001b[0m in \u001b[0;36m<module>\u001b[1;34m\u001b[0m\n\u001b[1;32m----> 1\u001b[1;33m \u001b[0mplt\u001b[0m\u001b[1;33m.\u001b[0m\u001b[0mhistogram\u001b[0m\u001b[1;33m(\u001b[0m\u001b[0mnp\u001b[0m\u001b[1;33m.\u001b[0m\u001b[0mhistogram\u001b[0m\u001b[1;33m(\u001b[0m\u001b[0mres\u001b[0m\u001b[1;33m[\u001b[0m\u001b[1;34m'fic'\u001b[0m\u001b[1;33m]\u001b[0m\u001b[1;33m,\u001b[0m \u001b[0mbins\u001b[0m\u001b[1;33m=\u001b[0m\u001b[1;36m100\u001b[0m\u001b[1;33m)\u001b[0m\u001b[1;33m)\u001b[0m\u001b[1;33m\u001b[0m\u001b[1;33m\u001b[0m\u001b[0m\n\u001b[0m",
      "\u001b[1;31mAttributeError\u001b[0m: module 'matplotlib.pyplot' has no attribute 'histogram'"
     ]
    }
   ],
   "source": [
    "plt.histogram(np.histogram(res['fic'], bins=100))"
   ]
  },
  {
   "cell_type": "code",
   "execution_count": 65,
   "metadata": {
    "ExecuteTime": {
     "end_time": "2020-12-16T21:21:28.340044Z",
     "start_time": "2020-12-16T21:21:27.871020Z"
    }
   },
   "outputs": [
    {
     "data": {
      "image/png": "[encoded data removed]",
      "text/plain": [
       "<Figure size 432x288 with 1 Axes>"
      ]
     },
     "metadata": {
      "needs_background": "light"
     },
     "output_type": "display_data"
    }
   ],
   "source": [
    "plt.hist(res['fic'], bins=50, range=(1, 1000));"
   ]
  },
  {
   "cell_type": "code",
   "execution_count": 70,
   "metadata": {
    "ExecuteTime": {
     "end_time": "2020-12-16T21:21:52.724488Z",
     "start_time": "2020-12-16T21:21:52.711586Z"
    }
   },
   "outputs": [
    {
     "data": {
      "text/plain": [
       "65.0"
      ]
     },
     "execution_count": 70,
     "metadata": {},
     "output_type": "execute_result"
    }
   ],
   "source": [
    "res['fic'].median()"
   ]
  },
  {
   "cell_type": "code",
   "execution_count": null,
   "metadata": {
    "ExecuteTime": {
     "start_time": "2020-12-15T06:11:48.233Z"
    }
   },
   "outputs": [],
   "source": [
    "max_pages"
   ]
  },
  {
   "cell_type": "code",
   "execution_count": null,
   "metadata": {
    "ExecuteTime": {
     "end_time": "2020-12-14T01:36:26.756094Z",
     "start_time": "2020-12-14T01:36:26.752108Z"
    }
   },
   "outputs": [],
   "source": [
    "conn = sqlite3.connect('scrape.db')"
   ]
  },
  {
   "cell_type": "code",
   "execution_count": null,
   "metadata": {},
   "outputs": [],
   "source": []
  }
 ],
 "metadata": {
  "kernelspec": {
   "display_name": "Python 3",
   "language": "python",
   "name": "python3"
  },
  "language_info": {
   "codemirror_mode": {
    "name": "ipython",
    "version": 3
   },
   "file_extension": ".py",
   "mimetype": "text/x-python",
   "name": "python",
   "nbconvert_exporter": "python",
   "pygments_lexer": "ipython3",
   "version": "3.8.1"
  },
  "pycharm": {
   "stem_cell": {
    "cell_type": "raw",
    "source": [],
    "metadata": {
     "collapsed": false
    }
   }
  }
 },
 "nbformat": 4,
 "nbformat_minor": 2
}