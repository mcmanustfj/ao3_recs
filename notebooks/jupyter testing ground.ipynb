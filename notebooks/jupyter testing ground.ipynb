{
 "cells": [
  {
   "cell_type": "code",
   "execution_count": 8,
   "metadata": {
    "ExecuteTime": {
     "end_time": "2020-12-15T06:45:47.005554Z",
     "start_time": "2020-12-15T06:45:46.998414Z"
    }
   },
   "outputs": [],
   "source": [
    "import requests\n",
    "from bs4 import BeautifulSoup\n",
    "from tqdm.notebook import tqdm, trange\n",
    "from time import sleep\n",
    "import IPython.display"
   ]
  },
  {
   "cell_type": "code",
   "execution_count": null,
   "metadata": {},
   "outputs": [],
   "source": []
  },
  {
   "cell_type": "code",
   "execution_count": 41,
   "metadata": {
    "ExecuteTime": {
     "end_time": "2020-10-19T03:54:46.873851Z",
     "start_time": "2020-10-19T03:54:46.871858Z"
    }
   },
   "outputs": [],
   "source": [
    "base_url = 'https://archiveofourown.org/'\n",
    "hist_url = base_url+'users/McRibbedForHerPleasure/readings'"
   ]
  },
  {
   "cell_type": "code",
   "execution_count": 70,
   "metadata": {
    "ExecuteTime": {
     "end_time": "2020-10-19T04:04:07.524650Z",
     "start_time": "2020-10-19T04:04:07.521647Z"
    }
   },
   "outputs": [],
   "source": [
    "s = requests.session()"
   ]
  },
  {
   "cell_type": "code",
   "execution_count": 1,
   "metadata": {
    "ExecuteTime": {
     "end_time": "2020-12-14T01:30:34.669680Z",
     "start_time": "2020-12-14T01:30:34.660710Z"
    }
   },
   "outputs": [],
   "source": [
    "def login(s):\n",
    "    resp = s.get(base_url)\n",
    "    soup = BeautifulSoup(resp.content)\n",
    "    loginform = soup.find('div', id='small_login')\n",
    "    form = {x['name'] : x['value'] for x in loginform.find_all('input', type='hidden')}\n",
    "    form['user[password]'] = 'x'\n",
    "    form['user[login]'] = 'McRibbedForHerPleasure'\n",
    "    form['commit'] = 'Log In'\n",
    "    resp = s.post('https://archiveofourown.org/users/login', data=form)\n",
    "    return resp"
   ]
  },
  {
   "cell_type": "code",
   "execution_count": 23,
   "metadata": {
    "ExecuteTime": {
     "end_time": "2020-12-15T06:51:50.513541Z",
     "start_time": "2020-12-15T06:51:50.499656Z"
    }
   },
   "outputs": [
    {
     "data": {
      "text/plain": [
       "0000"
      ]
     },
     "metadata": {},
     "output_type": "display_data"
    },
    {
     "data": {
      "text/plain": [
       "0000"
      ]
     },
     "metadata": {},
     "output_type": "display_data"
    }
   ],
   "source": [
    "h = display(display_id='my-display')\n",
    "h.display(None)"
   ]
  },
  {
   "cell_type": "code",
   "execution_count": 20,
   "metadata": {
    "ExecuteTime": {
     "end_time": "2020-12-15T06:49:27.210615Z",
     "start_time": "2020-12-15T06:49:27.204979Z"
    }
   },
   "outputs": [],
   "source": [
    "x=0"
   ]
  },
  {
   "cell_type": "code",
   "execution_count": 29,
   "metadata": {
    "ExecuteTime": {
     "end_time": "2020-12-15T06:52:59.753027Z",
     "start_time": "2020-12-15T06:52:59.744432Z"
    }
   },
   "outputs": [],
   "source": [
    "h.update({'text/plain': f'{x:4}'}, raw=True)"
   ]
  },
  {
   "cell_type": "code",
   "execution_count": 19,
   "metadata": {
    "ExecuteTime": {
     "end_time": "2020-12-15T06:48:11.531088Z",
     "start_time": "2020-12-15T06:48:07.914652Z"
    }
   },
   "outputs": [
    {
     "data": {
      "application/vnd.jupyter.widget-view+json": {
       "model_id": "b8e52c343ced44ba9444d42ce820f41f",
       "version_major": 2,
       "version_minor": 0
      },
      "text/plain": [
       "HBox(children=(HTML(value='first loop'), FloatProgress(value=0.0), HTML(value='')))"
      ]
     },
     "metadata": {},
     "output_type": "display_data"
    },
    {
     "data": {
      "application/vnd.jupyter.widget-view+json": {
       "model_id": "",
       "version_major": 2,
       "version_minor": 0
      },
      "text/plain": [
       "HBox(children=(HTML(value='second loop'), FloatProgress(value=0.0), HTML(value='')))"
      ]
     },
     "metadata": {},
     "output_type": "display_data"
    },
    {
     "data": {
      "application/vnd.jupyter.widget-view+json": {
       "model_id": "51fa9e12e0644ac59b0412fc318e61b9",
       "version_major": 2,
       "version_minor": 0
      },
      "text/plain": [
       "HBox(children=(HTML(value='second loop'), FloatProgress(value=0.0), HTML(value='')))"
      ]
     },
     "metadata": {},
     "output_type": "display_data"
    },
    {
     "name": "stdout",
     "output_type": "stream",
     "text": [
      "\n"
     ]
    },
    {
     "ename": "KeyboardInterrupt",
     "evalue": "",
     "output_type": "error",
     "traceback": [
      "\u001b[1;31m---------------------------------------------------------------------------\u001b[0m",
      "\u001b[1;31mKeyboardInterrupt\u001b[0m                         Traceback (most recent call last)",
      "\u001b[1;32m<ipython-input-19-758db07271b2>\u001b[0m in \u001b[0;36m<module>\u001b[1;34m\u001b[0m\n\u001b[0;32m      1\u001b[0m \u001b[1;32mfor\u001b[0m \u001b[0mi\u001b[0m \u001b[1;32min\u001b[0m \u001b[0mtqdm\u001b[0m\u001b[1;33m(\u001b[0m\u001b[0mrange\u001b[0m\u001b[1;33m(\u001b[0m\u001b[1;36m100\u001b[0m\u001b[1;33m)\u001b[0m\u001b[1;33m,\u001b[0m \u001b[0mdesc\u001b[0m\u001b[1;33m=\u001b[0m\u001b[1;34m'first loop'\u001b[0m\u001b[1;33m)\u001b[0m\u001b[1;33m:\u001b[0m\u001b[1;33m\u001b[0m\u001b[1;33m\u001b[0m\u001b[0m\n\u001b[0;32m      2\u001b[0m     \u001b[1;32mfor\u001b[0m \u001b[0mx\u001b[0m \u001b[1;32min\u001b[0m \u001b[0mtrange\u001b[0m\u001b[1;33m(\u001b[0m\u001b[1;36m100\u001b[0m\u001b[1;33m,\u001b[0m\u001b[0mdesc\u001b[0m\u001b[1;33m=\u001b[0m\u001b[1;34m'second loop'\u001b[0m\u001b[1;33m,\u001b[0m \u001b[0mleave\u001b[0m\u001b[1;33m=\u001b[0m\u001b[1;32mFalse\u001b[0m\u001b[1;33m)\u001b[0m\u001b[1;33m:\u001b[0m\u001b[1;33m\u001b[0m\u001b[1;33m\u001b[0m\u001b[0m\n\u001b[1;32m----> 3\u001b[1;33m         \u001b[0msleep\u001b[0m\u001b[1;33m(\u001b[0m\u001b[1;36m0.02\u001b[0m\u001b[1;33m)\u001b[0m\u001b[1;33m\u001b[0m\u001b[1;33m\u001b[0m\u001b[0m\n\u001b[0m\u001b[0;32m      4\u001b[0m         \u001b[0mh\u001b[0m\u001b[1;33m.\u001b[0m\u001b[0mupdate\u001b[0m\u001b[1;33m(\u001b[0m\u001b[0mx\u001b[0m\u001b[1;33m)\u001b[0m\u001b[1;33m\u001b[0m\u001b[1;33m\u001b[0m\u001b[0m\n",
      "\u001b[1;31mKeyboardInterrupt\u001b[0m: "
     ]
    }
   ],
   "source": [
    "for i in tqdm(range(100), desc='first loop'):\n",
    "    for x in trange(100,desc='second loop', leave=False):\n",
    "        sleep(0.02)\n",
    "        h.update(x)"
   ]
  },
  {
   "cell_type": "code",
   "execution_count": 77,
   "metadata": {
    "ExecuteTime": {
     "end_time": "2020-10-19T04:09:02.901558Z",
     "start_time": "2020-10-19T04:08:37.616691Z"
    }
   },
   "outputs": [],
   "source": [
    "resp = login(s)"
   ]
  },
  {
   "cell_type": "code",
   "execution_count": 78,
   "metadata": {
    "ExecuteTime": {
     "end_time": "2020-10-19T04:09:02.905562Z",
     "start_time": "2020-10-19T04:09:02.902559Z"
    }
   },
   "outputs": [
    {
     "data": {
      "text/plain": [
       "'https://archiveofourown.org/?view_adult=true'"
      ]
     },
     "execution_count": 78,
     "metadata": {},
     "output_type": "execute_result"
    }
   ],
   "source": [
    "resp.url"
   ]
  },
  {
   "cell_type": "code",
   "execution_count": 107,
   "metadata": {
    "ExecuteTime": {
     "end_time": "2020-10-19T04:18:53.473792Z",
     "start_time": "2020-10-19T04:18:51.160291Z"
    }
   },
   "outputs": [
    {
     "name": "stdout",
     "output_type": "stream",
     "text": [
      "https://archiveofourown.org//users/McRibbedForHerPleasure/readings?page=1\n",
      "https://archiveofourown.org//users/McRibbedForHerPleasure/readings?page=2\n",
      "https://archiveofourown.org//users/McRibbedForHerPleasure/readings?page=3\n"
     ]
    }
   ],
   "source": [
    "i = 1\n",
    "word_sum=0\n",
    "while(i < 50):\n",
    "    resp = s.get(hist_url, params={'page':i})\n",
    "    print(resp.url)\n",
    "    soup = BeautifulSoup(resp.content)\n",
    "    items = soup('li', class_='reading work blurb group')\n",
    "    yesterday_reached=False\n",
    "    for item in items:\n",
    "        if '17 Oct' in item.find('h4', class_='viewed heading').text:\n",
    "            yesterday_reached=True\n",
    "            break\n",
    "        word_sum += int(item.find('dd', class_='words').text.replace(',',''))\n",
    "    if yesterday_reached:\n",
    "        break\n",
    "    i += 1"
   ]
  },
  {
   "cell_type": "code",
   "execution_count": 108,
   "metadata": {
    "ExecuteTime": {
     "end_time": "2020-10-19T04:18:58.963604Z",
     "start_time": "2020-10-19T04:18:58.960601Z"
    }
   },
   "outputs": [
    {
     "data": {
      "text/plain": [
       "698871"
      ]
     },
     "execution_count": 108,
     "metadata": {},
     "output_type": "execute_result"
    }
   ],
   "source": [
    "word_sum"
   ]
  },
  {
   "cell_type": "code",
   "execution_count": 100,
   "metadata": {
    "ExecuteTime": {
     "end_time": "2020-10-19T04:15:39.379016Z",
     "start_time": "2020-10-19T04:15:38.625653Z"
    }
   },
   "outputs": [],
   "source": [
    "resp = s.get(hist_url, params={'page':2})"
   ]
  },
  {
   "cell_type": "code",
   "execution_count": 101,
   "metadata": {
    "ExecuteTime": {
     "end_time": "2020-10-19T04:15:40.482020Z",
     "start_time": "2020-10-19T04:15:40.433976Z"
    }
   },
   "outputs": [],
   "source": [
    "soup = BeautifulSoup(resp.content)"
   ]
  },
  {
   "cell_type": "code",
   "execution_count": 102,
   "metadata": {
    "ExecuteTime": {
     "end_time": "2020-10-19T04:15:41.903451Z",
     "start_time": "2020-10-19T04:15:41.891440Z"
    }
   },
   "outputs": [],
   "source": [
    "items = soup('li', class_='reading work blurb group')"
   ]
  },
  {
   "cell_type": "code",
   "execution_count": 103,
   "metadata": {
    "ExecuteTime": {
     "end_time": "2020-10-19T04:15:42.569916Z",
     "start_time": "2020-10-19T04:15:42.553908Z"
    }
   },
   "outputs": [
    {
     "name": "stdout",
     "output_type": "stream",
     "text": [
      "6438 True\n",
      "5507 True\n",
      "2888 True\n",
      "6388 True\n",
      "2792 True\n",
      "2285 True\n",
      "2349 True\n",
      "2956 True\n",
      "4367 True\n",
      "2116 True\n",
      "6690 True\n",
      "2375 True\n",
      "19572 True\n",
      "1955 True\n",
      "1978 True\n",
      "2410 True\n",
      "1476 True\n",
      "6797 True\n",
      "12031 True\n",
      "3210 True\n"
     ]
    }
   ],
   "source": [
    "for item in items:\n",
    "    print(int(item.find('dd', class_='words').text.replace(',','')), '18 Oct' in item.find('h4', class_='viewed heading').text)"
   ]
  },
  {
   "cell_type": "code",
   "execution_count": 90,
   "metadata": {
    "ExecuteTime": {
     "end_time": "2020-10-19T04:11:59.618148Z",
     "start_time": "2020-10-19T04:11:59.616146Z"
    }
   },
   "outputs": [],
   "source": [
    "item = items[0]"
   ]
  },
  {
   "cell_type": "code",
   "execution_count": 98,
   "metadata": {
    "ExecuteTime": {
     "end_time": "2020-10-19T04:14:28.916909Z",
     "start_time": "2020-10-19T04:14:28.913906Z"
    }
   },
   "outputs": [
    {
     "data": {
      "text/plain": [
       "7337"
      ]
     },
     "execution_count": 98,
     "metadata": {},
     "output_type": "execute_result"
    }
   ],
   "source": [
    "int(item.find('dd', class_='words').text.replace(',',''))"
   ]
  },
  {
   "cell_type": "code",
   "execution_count": 95,
   "metadata": {
    "ExecuteTime": {
     "end_time": "2020-10-19T04:13:07.251189Z",
     "start_time": "2020-10-19T04:13:07.248186Z"
    }
   },
   "outputs": [
    {
     "data": {
      "text/plain": [
       "'\\nLast visited: 18 Oct 2020\\n\\n          (Latest version.)\\n\\n          Visited once\\n\\n\\n\\n    '"
      ]
     },
     "execution_count": 95,
     "metadata": {},
     "output_type": "execute_result"
    }
   ],
   "source": [
    "item.find('h4', class_='viewed heading').text"
   ]
  }
 ],
 "metadata": {
  "kernelspec": {
   "display_name": "Python 3",
   "language": "python",
   "name": "python3"
  },
  "language_info": {
   "codemirror_mode": {
    "name": "ipython",
    "version": 3
   },
   "file_extension": ".py",
   "mimetype": "text/x-python",
   "name": "python",
   "nbconvert_exporter": "python",
   "pygments_lexer": "ipython3",
   "version": "3.8.1"
  }
 },
 "nbformat": 4,
 "nbformat_minor": 2
}
